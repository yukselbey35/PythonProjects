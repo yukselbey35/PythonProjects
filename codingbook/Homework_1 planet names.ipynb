{
 "cells": [
  {
   "cell_type": "code",
   "execution_count": null,
   "metadata": {},
   "outputs": [],
   "source": [
    "\"\"\"\n",
    "Create a dictionary that holds all the planets with their \n",
    "IDs respective to their positions to Sun (Sadly, Pluto is not included). \n",
    "I.e Mercury’s ID would be 1, Venus’ would be 2, and so on. \n",
    "Get the ID from the user and output the name of the planet. If I enter 4, your code should print Mars.\n",
    "\"\"\"\n",
    "#Maybe we can do with while loop and if else\n",
    "solarSystem=dict()\n",
    "print(type(solarSystem))\n",
    "solarSystem.update({1:\"Mercury\", 2:\"Venus\", 3:\"Earth\", 4:\"Mars\", 5:\"Jupiter\", 6:\"Saturn\", 7:\"Uranus\", 8:\"Neptune\"})\n",
    "print(solarSystem.keys())\n",
    "x=int(input(\"Enter the planed id:\"))\n",
    "print(f\"Planet is: {solarSystem[x]}\")   "
   ]
  },
  {
   "cell_type": "code",
   "execution_count": null,
   "metadata": {},
   "outputs": [],
   "source": [
    "#I could not do with while and if else statement\n",
    "\n",
    "solarSystem=dict()\n",
    "print(type(solarSystem))\n",
    "solarSystem.update({1:\"Mercury\", 2:\"Venus\", 3:\"Earth\", 4:\"Mars\", 5:\"Jupiter\", 6:\"Saturn\", 7:\"Uranus\", 8:\"Neptune\"})\n",
    "print(solarSystem.keys())\n",
    "while True:\n",
    "    x=int(input(\"Enter the planed id:\"))\n",
    "    if x = (solarSystem.keys[x]) :\n",
    "        print(f\"Planet is: {solarSystem[x]}\")\n",
    "    else:\n",
    "        print ()\"Not a planet id!\")\n",
    "        break\n",
    "\n",
    "print (\"Thanks\")"
   ]
  },
  {
   "cell_type": "code",
   "execution_count": null,
   "metadata": {},
   "outputs": [],
   "source": []
  },
  {
   "cell_type": "code",
   "execution_count": null,
   "metadata": {},
   "outputs": [],
   "source": []
  },
  {
   "cell_type": "code",
   "execution_count": null,
   "metadata": {},
   "outputs": [],
   "source": []
  },
  {
   "cell_type": "code",
   "execution_count": null,
   "metadata": {},
   "outputs": [],
   "source": []
  }
 ],
 "metadata": {
  "kernelspec": {
   "display_name": "Python 3",
   "language": "python",
   "name": "python3"
  },
  "language_info": {
   "codemirror_mode": {
    "name": "ipython",
    "version": 3
   },
   "file_extension": ".py",
   "mimetype": "text/x-python",
   "name": "python",
   "nbconvert_exporter": "python",
   "pygments_lexer": "ipython3",
   "version": "3.7.6"
  }
 },
 "nbformat": 4,
 "nbformat_minor": 4
}
