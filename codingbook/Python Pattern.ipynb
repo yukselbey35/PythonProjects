{
 "cells": [
  {
   "cell_type": "code",
   "execution_count": null,
   "metadata": {},
   "outputs": [],
   "source": [
    "for i in range(1, 21):\n",
    "    print (i)\n",
    "\n"
   ]
  },
  {
   "cell_type": "code",
   "execution_count": null,
   "metadata": {},
   "outputs": [],
   "source": [
    "myList=list(range(5, 21, 5))\n",
    "print(myList)\n"
   ]
  },
  {
   "cell_type": "code",
   "execution_count": null,
   "metadata": {},
   "outputs": [],
   "source": [
    "#Making a list with range\n",
    "myList=list(range(1, 21))\n",
    "print(myList)\n"
   ]
  },
  {
   "cell_type": "code",
   "execution_count": null,
   "metadata": {},
   "outputs": [],
   "source": [
    "for i in range(20, 0, -5):\n",
    "    print(i)\n"
   ]
  },
  {
   "cell_type": "code",
   "execution_count": null,
   "metadata": {},
   "outputs": [],
   "source": []
  },
  {
   "cell_type": "code",
   "execution_count": null,
   "metadata": {},
   "outputs": [],
   "source": [
    "num=int(input(\"Enter the number of rows:\"))\n",
    "for i in range(1, num+1):\n",
    "    print(i)\n",
    "    "
   ]
  },
  {
   "cell_type": "code",
   "execution_count": null,
   "metadata": {},
   "outputs": [],
   "source": [
    "num=int(input(\"Enter the number of rows:\"))\n",
    "for i in range(1, num+1):\n",
    "    for j in range(1, i+1):\n",
    "        print(\"Hello\", end=\" \")\n",
    "    print()\n"
   ]
  },
  {
   "cell_type": "code",
   "execution_count": null,
   "metadata": {},
   "outputs": [],
   "source": [
    "num=int(input(\"Enter the number of rows:\"))\n",
    "for i in range(1, num+1): #This for loop for the rows\n",
    "    for j in range(1, i+1): #This for loop prints the *\n",
    "        print(\"*\", end=\" \") \n",
    "    print() #To make new row"
   ]
  },
  {
   "cell_type": "code",
   "execution_count": null,
   "metadata": {},
   "outputs": [],
   "source": [
    "num=int(input(\"Enter the number of rows:\"))\n",
    "k=1\n",
    "for i in range(1, num+1): #This for loop for the rows\n",
    "    for j in range(1, k+1): #This for loop prints the *\n",
    "        print(\"*\", end=\" \")\n",
    "    k=k+2\n",
    "    print() #To make new row"
   ]
  },
  {
   "cell_type": "code",
   "execution_count": null,
   "metadata": {},
   "outputs": [],
   "source": [
    "num=int(input(\"Enter the number of rows:\"))\n",
    "for i in range(0, num): #This for loop for the rows\n",
    "    for j in range(0, num-i-1): #This for loop make spaces\n",
    "        print(end=\" \") \n",
    "    for j in range(0, i+1):\n",
    "        print (\"*\", end=\" \")\n",
    "    print() #To make new row"
   ]
  },
  {
   "cell_type": "code",
   "execution_count": null,
   "metadata": {},
   "outputs": [],
   "source": [
    "num=int(input(\"Enter the number of rows:\"))\n",
    "for i in range(0, num): #This for loop for the rows\n",
    "    for j in range(0, num-i-1): #This for loop make spaces\n",
    "        print(end=\" \") \n",
    "    for j in range(0, i+1):\n",
    "        print (\"*\", end=\" \")\n",
    "    print() #To make new row"
   ]
  },
  {
   "cell_type": "code",
   "execution_count": null,
   "metadata": {},
   "outputs": [],
   "source": [
    "def pattern(n):\n",
    "    for i in range(1, n+1):\n",
    "        for j in range(1, i+1):\n",
    "            print(\"*\", end=\"\")\n",
    "        print()\n",
    "        \n",
    "pattern(3)"
   ]
  },
  {
   "cell_type": "code",
   "execution_count": null,
   "metadata": {},
   "outputs": [],
   "source": [
    "def patternP(n):\n",
    "    for i in range(0, n):\n",
    "        for j in range(0, n-i-1): #Making space\n",
    "            print(end=\" \")\n",
    "        for j in range(0, i+1): #Making stars\n",
    "            print(\"*\", end=\" \") #end making the stars side by side\n",
    "        print()\n",
    "        \n",
    "patternP(5)"
   ]
  },
  {
   "cell_type": "code",
   "execution_count": 5,
   "metadata": {},
   "outputs": [
    {
     "name": "stdout",
     "output_type": "stream",
     "text": [
      "* * * * * \n",
      " * * * * \n",
      "  * * * \n",
      "   * * \n",
      "    * \n"
     ]
    }
   ],
   "source": [
    "def revPyramid(n):\n",
    "    for i in range(n, 0, -1):#we will start from the end (last number)\n",
    "        for j in range(0, n-i): #Make space\n",
    "            print(end=\" \")\n",
    "        for j in range(0, i):\n",
    "            print(\"*\", end=\" \")\n",
    "        print()\n",
    "revPyramid(5)     "
   ]
  },
  {
   "cell_type": "code",
   "execution_count": 7,
   "metadata": {},
   "outputs": [
    {
     "name": "stdout",
     "output_type": "stream",
     "text": [
      "Enter the number of rows:5\n",
      "* * * * * \n",
      "* * * * \n",
      "* * * \n",
      "* * \n",
      "* \n"
     ]
    }
   ],
   "source": [
    "nums=int(input(\"Enter the number of rows:\"))\n",
    "\n",
    "for i in range(nums, 0, -1):\n",
    "    for j in range(0, i):\n",
    "        print(\"*\", end=\" \")\n",
    "    print()"
   ]
  },
  {
   "cell_type": "code",
   "execution_count": 6,
   "metadata": {},
   "outputs": [
    {
     "name": "stdout",
     "output_type": "stream",
     "text": [
      "Enter the number of rows:5\n",
      "*\n",
      "**\n",
      "***\n",
      "****\n",
      "*****\n",
      "****\n",
      "***\n",
      "**\n",
      "*\n"
     ]
    }
   ],
   "source": [
    "nums=int(input(\"Enter the number of rows:\"))\n",
    "for i in range(1, nums+1):\n",
    "    for j in range(0, i):\n",
    "        print(\"*\", end=\"\")\n",
    "    print()\n",
    "for i in range(nums-1, 0, -1):\n",
    "    for j in range(0, i):\n",
    "        print(\"*\", end=\"\")\n",
    "    print()"
   ]
  },
  {
   "cell_type": "code",
   "execution_count": 8,
   "metadata": {},
   "outputs": [
    {
     "name": "stdout",
     "output_type": "stream",
     "text": [
      "*\n",
      "**\n",
      "***\n",
      "****\n",
      "*****\n",
      "****\n",
      "***\n",
      "**\n",
      "*\n"
     ]
    }
   ],
   "source": [
    "def vertP(n):\n",
    "    for i in range(1, nums+1):\n",
    "        for j in range(0, i):\n",
    "            print(\"*\", end=\"\")\n",
    "        print()\n",
    "    for i in range(nums-1, 0, -1):\n",
    "        for j in range(0, i):\n",
    "            print(\"*\", end=\"\")\n",
    "        print()\n",
    "vertP(5)"
   ]
  },
  {
   "cell_type": "code",
   "execution_count": null,
   "metadata": {},
   "outputs": [],
   "source": []
  }
 ],
 "metadata": {
  "kernelspec": {
   "display_name": "Python 3",
   "language": "python",
   "name": "python3"
  },
  "language_info": {
   "codemirror_mode": {
    "name": "ipython",
    "version": 3
   },
   "file_extension": ".py",
   "mimetype": "text/x-python",
   "name": "python",
   "nbconvert_exporter": "python",
   "pygments_lexer": "ipython3",
   "version": "3.7.6"
  }
 },
 "nbformat": 4,
 "nbformat_minor": 4
}
