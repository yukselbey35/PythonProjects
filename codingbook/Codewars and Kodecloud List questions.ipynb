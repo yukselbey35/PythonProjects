{
 "cells": [
  {
   "cell_type": "code",
   "execution_count": 2,
   "metadata": {},
   "outputs": [
    {
     "name": "stdout",
     "output_type": "stream",
     "text": [
      "[1, 2, 3, 4, 5, 6, 7, 8, 9]\n"
     ]
    }
   ],
   "source": [
    "myList=list(range(1, 10))\n",
    "print (myList)"
   ]
  },
  {
   "cell_type": "code",
   "execution_count": 7,
   "metadata": {},
   "outputs": [
    {
     "name": "stdout",
     "output_type": "stream",
     "text": [
      "[2, 4, 6, 8, 10, 12, 14, 16, 18, 20]\n"
     ]
    }
   ],
   "source": [
    "myList=list(range(1, 11))\n",
    "newList=[i*2 for i in (myList)]\n",
    "print(newList)"
   ]
  },
  {
   "cell_type": "code",
   "execution_count": 11,
   "metadata": {},
   "outputs": [
    {
     "name": "stdout",
     "output_type": "stream",
     "text": [
      "[2, 4, 6, 8, 10, 12, 14, 16, 18]\n"
     ]
    }
   ],
   "source": [
    "list3=list(range(2, 20, 2))\n",
    "print(list3)\n"
   ]
  },
  {
   "cell_type": "code",
   "execution_count": 13,
   "metadata": {},
   "outputs": [
    {
     "name": "stdout",
     "output_type": "stream",
     "text": [
      "[2, 12, 30, 56]\n"
     ]
    }
   ],
   "source": [
    "list4=[(1,2), (3,4), (5, 6), (7,8)]\n",
    "list4mult=[i*j for i,j in list4]\n",
    "print(list4mult)"
   ]
  },
  {
   "cell_type": "code",
   "execution_count": 20,
   "metadata": {},
   "outputs": [
    {
     "data": {
      "text/plain": [
       "[-1, 0, 1, 2, 3]"
      ]
     },
     "execution_count": 20,
     "metadata": {},
     "output_type": "execute_result"
    }
   ],
   "source": [
    "def makeInt(a, b):\n",
    "    intList=[i for i in range(a, b+1)]\n",
    "    \n",
    "    #makeintList=list(intList)\n",
    "    return intList\n",
    "# makeintList(-1, 3)\n",
    "makeInt(-1, 3) "
   ]
  },
  {
   "cell_type": "code",
   "execution_count": null,
   "metadata": {},
   "outputs": [],
   "source": [
    "\"\"\"\n",
    "I'm new to coding and now I want to get the sum of two arrays...actually the sum of all their elements. I'll appreciate for your help.\n",
    "P.S. Each array includes only integer numbers. Output is a number too.\n",
    "Test.it(\"Basic test\")\n",
    "Test.assert_equals(array_plus_array([1, 2, 3], [4, 5, 6]), 21)\n",
    "Test.assert_equals(array_plus_array([-1, -2, -3], [-4, -5, -6]), -21)\n",
    "Test.assert_equals(array_plus_array([0, 0, 0], [4, 5, 6]), 15)\n",
    "Test.assert_equals(array_plus_array([100, 200, 300], [400, 500, 600]), 2100)\n",
    "\"\"\"\n",
    "def array_plus_array(arr1,arr2):\n",
    "    total=sum(arr1)+sum(arr2)\n",
    "    return total\n",
    "    pass\n",
    "#array_plus_array([1, 2, 3], [4, 5, 6])\n",
    "array_plus_array([100, 200, 300], [400, 500, 600])\n"
   ]
  },
  {
   "cell_type": "code",
   "execution_count": null,
   "metadata": {},
   "outputs": [],
   "source": []
  },
  {
   "cell_type": "code",
   "execution_count": null,
   "metadata": {},
   "outputs": [],
   "source": [
    "def array_plus_array(arr1,arr2):\n",
    "    total=0\n",
    "    arr=arr1+arr2\n",
    "    for i in arr:\n",
    "        total+=i\n",
    "    return total\n",
    "    pass\n",
    "#array_plus_array([1, 2, 3], [4, 5, 6])\n",
    "array_plus_array([100, 200, 300], [400, 500, 600])\n"
   ]
  },
  {
   "cell_type": "code",
   "execution_count": null,
   "metadata": {},
   "outputs": [],
   "source": [
    "\"\"\"\n",
    "Consider an array/list of sheep where some sheep may be missing from their place. We need a function that counts the number of sheep present in the array (true means present).\n",
    "\"\"\"\n",
    "array1 = [True,  True,  True,  False,\n",
    "          True,  True,  True,  True ,\n",
    "          True,  False, True,  False,\n",
    "          True,  False, False, True ,\n",
    "          True,  True,  True,  True ,\n",
    "          False, False, True,  True ]\n",
    "\n",
    "def count_sheeps(sheep):\n",
    "    return sheep.count(True)\n",
    "    # TODO May the force be with you\n",
    "    pass\n",
    "count_sheeps(array1)"
   ]
  },
  {
   "cell_type": "code",
   "execution_count": null,
   "metadata": {},
   "outputs": [],
   "source": [
    "\"\"\"\n",
    "Consider an array/list of sheep where some sheep may be missing from their place. We need a function that counts the number of sheep present in the array (true means present).\n",
    "\"\"\"\n",
    "array1 = [True,  True,  True,  False,\n",
    "          True,  True,  True,  True ,\n",
    "          True,  False, True,  False,\n",
    "          True,  False, False, True ,\n",
    "          True,  True,  True,  True ,\n",
    "          False, False, True,  True ]\n",
    "def count_sheeps(sheep):\n",
    "    total=0\n",
    "    for i in sheep:\n",
    "        if i==True:\n",
    "            total+=1\n",
    "    return total\n",
    "    # TODO May the force be with you\n",
    "    pass\n",
    "count_sheeps(array1)"
   ]
  },
  {
   "cell_type": "code",
   "execution_count": 4,
   "metadata": {},
   "outputs": [
    {
     "name": "stdout",
     "output_type": "stream",
     "text": [
      "[1, 2, 3, 4]\n"
     ]
    },
    {
     "data": {
      "text/plain": [
       "[4, 3, 2, 1]"
      ]
     },
     "execution_count": 4,
     "metadata": {},
     "output_type": "execute_result"
    }
   ],
   "source": [
    "\"\"\"\n",
    "In this kata you will create a function that takes in a list and returns a list with the reverse order.\n",
    "\n",
    "Examples\n",
    "reverse_list([1,2,3,4]) == [4,3,2,1]\n",
    "reverse_list([3,1,5,4]) == [4,5,1,3]\n",
    "\"\"\"\n",
    "def reverse_list(l):\n",
    "    l.reverse()\n",
    "    return l\n",
    "l=[1,2,3,4]\n",
    "print(l)\n",
    "reverse_list(l)"
   ]
  },
  {
   "cell_type": "code",
   "execution_count": 8,
   "metadata": {},
   "outputs": [
    {
     "data": {
      "text/plain": [
       "[4, 3, 2, 1]"
      ]
     },
     "execution_count": 8,
     "metadata": {},
     "output_type": "execute_result"
    }
   ],
   "source": [
    "\"\"\"\n",
    "In this kata you will create a function that takes in a list and returns a list with the reverse order.\n",
    "\n",
    "Examples\n",
    "reverse_list([1,2,3,4]) == [4,3,2,1]\n",
    "reverse_list([3,1,5,4]) == [4,5,1,3]\n",
    "\n",
    "\"\"\"\n",
    "l=[1,2,3,4]\n",
    "def reverse_list(l):\n",
    "    newL=list()\n",
    "    for i in l[::-1]:\n",
    "        newL.append(i)\n",
    "    return newL\n",
    "reverse_list(l)"
   ]
  },
  {
   "cell_type": "code",
   "execution_count": 10,
   "metadata": {},
   "outputs": [
    {
     "data": {
      "text/plain": [
       "6"
      ]
     },
     "execution_count": 10,
     "metadata": {},
     "output_type": "execute_result"
    }
   ],
   "source": [
    "\"\"\"\n",
    "Sum Array\n",
    "Write a method sum (sum_array in python, sumarray in julia, SumArray in C#) that takes an array of numbers and returns the sum of the numbers. These may be integers or decimals for Ruby and any instance of Num for Haskell. The numbers can also be negative. If the array does not contain any numbers then you should return 0.\n",
    "Examples\n",
    "print sum_array([1 2 3])\n",
    " 6\n",
    "print sum_array([])\n",
    " 0\n",
    "\"\"\"\n",
    "def sum_array(a):\n",
    "    if len(a)==0:\n",
    "        return 0\n",
    "    else:\n",
    "        return sum(a)\n",
    "b=[1, 2, 3]\n",
    "sum_array(b)"
   ]
  },
  {
   "cell_type": "code",
   "execution_count": 14,
   "metadata": {},
   "outputs": [
    {
     "data": {
      "text/plain": [
       "6"
      ]
     },
     "execution_count": 14,
     "metadata": {},
     "output_type": "execute_result"
    }
   ],
   "source": [
    "def sum_array(a):\n",
    "    total=0\n",
    "    i=0\n",
    "    while i<len(a):\n",
    "        total+=a[i]\n",
    "        i+=1\n",
    "    return total\n",
    "b=[1, 2, 3]\n",
    "sum_array(b)"
   ]
  },
  {
   "cell_type": "code",
   "execution_count": 17,
   "metadata": {},
   "outputs": [
    {
     "data": {
      "text/plain": [
       "566"
      ]
     },
     "execution_count": 17,
     "metadata": {},
     "output_type": "execute_result"
    }
   ],
   "source": [
    "\"\"\"\n",
    "Your task is to make two functions, max and min (maximum and minimum in PHP and Python) that take a(n) array/vector of integers list as input and outputs, respectively, the largest and lowest number in that array/vector.\n",
    "\n",
    "#Examples\n",
    "\n",
    "maximun([4,6,2,1,9,63,-134,566]) returns 566\n",
    "minimun([-52, 56, 30, 29, -54, 0, -110]) returns -110\n",
    "maximun([5]) returns 5\n",
    "minimun([42, 54, 65, 87, 0]) returns 0\n",
    "\"\"\"\n",
    "def minimum(arr):\n",
    "    return min(arr)\n",
    "    #your code here...\n",
    "\n",
    "def maximum(arr):\n",
    "    return max(arr)\n",
    "    #...and here\n",
    "    \n",
    "maxL=[4,6,2,1,9,63,-134,566]\n",
    "minL=[-52, 56, 30, 29, -54, 0, -110]\n",
    "minimum(minL)\n",
    "maximum(maxL)"
   ]
  },
  {
   "cell_type": "code",
   "execution_count": 29,
   "metadata": {},
   "outputs": [
    {
     "data": {
      "text/plain": [
       "566"
      ]
     },
     "execution_count": 29,
     "metadata": {},
     "output_type": "execute_result"
    }
   ],
   "source": [
    "def minimum(arr):\n",
    "    lowest=arr[0]\n",
    "    for i in arr[1:]:\n",
    "        if i< lowest:\n",
    "            lowest=i\n",
    "    return lowest\n",
    "    #your code here...\n",
    "\n",
    "def maximum(arr):\n",
    "    highest=arr[0]\n",
    "    for i in arr[1:]:\n",
    "        if i>highest:\n",
    "            highest=i\n",
    "    return highest\n",
    "    #...and here\n",
    "    \n",
    "maxL=[4,6,2,1,9,63,-134,566]\n",
    "minL=[-52, 56, 30, 29, -54, 0, -110]\n",
    "#minimum(minL)\n",
    "maximum(maxL)"
   ]
  },
  {
   "cell_type": "code",
   "execution_count": 43,
   "metadata": {},
   "outputs": [
    {
     "data": {
      "text/plain": [
       "('found the needle at position', 5)"
      ]
     },
     "execution_count": 43,
     "metadata": {},
     "output_type": "execute_result"
    }
   ],
   "source": [
    "\"\"\"\n",
    "Can you find the needle in the haystack?\n",
    "Write a function findNeedle() that takes an array full of junk but containing one \"needle\"\n",
    "After your function finds the needle it should return a message (as a string) that says:\n",
    "\"found the needle at position \" plus the index it found the needle, so:\n",
    "find_needle(['hay', 'junk', 'hay', 'hay', 'moreJunk', 'needle', 'randomJunk'])\n",
    "\"\"\"\n",
    "def find_needle(haystack):\n",
    "    for i in haystack:\n",
    "        if \"needle\" in haystack:\n",
    "            indexN=haystack.index('needle')\n",
    "    return (f\"found the needle at position {indexN}\")\n",
    "strList=['hay', 'junk', 'hay', 'hay', 'moreJunk', 'needle', 'randomJunk']\n",
    "find_needle(strList)"
   ]
  },
  {
   "cell_type": "code",
   "execution_count": 41,
   "metadata": {},
   "outputs": [
    {
     "name": "stdout",
     "output_type": "stream",
     "text": [
      "found the needle at position 3\n"
     ]
    }
   ],
   "source": [
    "\"\"\"\n",
    "Can you find the needle in the haystack?\n",
    "Write a function findNeedle() that takes an array full of junk but containing one \"needle\"\n",
    "After your function finds the needle it should return a message (as a string) that says:\n",
    "\"found the needle at position \" plus the index it found the needle, so:\n",
    "find_needle(['hay', 'junk', 'hay', 'hay', 'moreJunk', 'needle', 'randomJunk'])\n",
    "\"\"\"\n",
    "def find_needle(haystack):\n",
    "    indexN=haystack.index('needle')\n",
    "    print (f\"found the needle at position {indexN}\")\n",
    "strList=['hay', 'junk', 'hay', 'hay', 'moreJunk', 'needle', 'randomJunk']\n",
    "\n",
    "strList1=['3', '123124234', None, 'needle', 'world', 'hay', 2, '3', True, False]\n",
    "find_needle(strList1)"
   ]
  },
  {
   "cell_type": "code",
   "execution_count": 48,
   "metadata": {},
   "outputs": [
    {
     "name": "stdout",
     "output_type": "stream",
     "text": [
      "59.625\n"
     ]
    },
    {
     "data": {
      "text/plain": [
       "True"
      ]
     },
     "execution_count": 48,
     "metadata": {},
     "output_type": "execute_result"
    }
   ],
   "source": [
    "\"\"\"\n",
    "There was a test in your class and you passed it. Congratulations!\n",
    "But you're an ambitious person. You want to know if you're better than the average student in your class.\n",
    "You receive an array with your peers' test scores. Now calculate the average and compare your score!\n",
    "Return True if you're better, else False!\n",
    "\"\"\"\n",
    "def better_than_average(class_points, your_points):\n",
    "    # Your code here\n",
    "    num=len(class_points)\n",
    "    total=sum(class_points)\n",
    "    classAv=total/num\n",
    "    #print(classAv)\n",
    "    if your_points>classAv:\n",
    "        return True\n",
    "    else:\n",
    "        return False\n",
    "#better_than_average([2, 3], 5)\n",
    "better_than_average([100, 40, 34, 57, 29, 72, 57, 88], 75)   "
   ]
  },
  {
   "cell_type": "code",
   "execution_count": 2,
   "metadata": {},
   "outputs": [
    {
     "name": "stdout",
     "output_type": "stream",
     "text": [
      "3.25\n"
     ]
    }
   ],
   "source": [
    "def mean_func(list1):\n",
    "    return sum(list1) / len(list1)\n",
    "\n",
    "print(mean_func([5, 2, 2, 4]))"
   ]
  },
  {
   "cell_type": "code",
   "execution_count": 4,
   "metadata": {},
   "outputs": [
    {
     "name": "stdout",
     "output_type": "stream",
     "text": [
      "john mark emmy "
     ]
    }
   ],
   "source": [
    "def my_function(names):\n",
    "  for i in names:\n",
    "    print(i, end=' ')\n",
    "\n",
    "names = [\"john\", \"mark\", \"emmy\"]\n",
    "my_function(names)"
   ]
  },
  {
   "cell_type": "code",
   "execution_count": 6,
   "metadata": {},
   "outputs": [
    {
     "name": "stdout",
     "output_type": "stream",
     "text": [
      "[1, 2, 3, 1, 2, 3]\n"
     ]
    }
   ],
   "source": [
    "def double_list(numbers):\n",
    "  return 2 * numbers\n",
    "\n",
    "numbers = [1, 2, 3]\n",
    "print(double_list(numbers))"
   ]
  },
  {
   "cell_type": "code",
   "execution_count": 8,
   "metadata": {},
   "outputs": [
    {
     "name": "stdout",
     "output_type": "stream",
     "text": [
      "[1, 3, 5]\n"
     ]
    }
   ],
   "source": [
    "def get_odd_func(numbers):\n",
    "    odd_numbers = [num for num in numbers if num % 2]\n",
    "    return odd_numbers\n",
    "\n",
    "print(get_odd_func([1, 2, 3, 4, 5, 6]))"
   ]
  },
  {
   "cell_type": "code",
   "execution_count": 10,
   "metadata": {},
   "outputs": [
    {
     "data": {
      "text/plain": [
       "[2, 4, 6]"
      ]
     },
     "execution_count": 10,
     "metadata": {},
     "output_type": "execute_result"
    }
   ],
   "source": [
    "def get_even_func(numbers):\n",
    "    even_numbers = [num for num in numbers if not num % 2]\n",
    "    return even_numbers\n",
    "\n",
    "get_even_func([1, 2, 3, 4, 5, 6])"
   ]
  },
  {
   "cell_type": "code",
   "execution_count": 12,
   "metadata": {},
   "outputs": [
    {
     "name": "stdout",
     "output_type": "stream",
     "text": [
      "6.5\n"
     ]
    }
   ],
   "source": [
    "def mean_func(list1):\n",
    "    return sum(list1) / len(list1)\n",
    "\n",
    "print(mean_func([5, 6, 7, 8]))"
   ]
  },
  {
   "cell_type": "code",
   "execution_count": 13,
   "metadata": {},
   "outputs": [
    {
     "name": "stdout",
     "output_type": "stream",
     "text": [
      "12 14 16 "
     ]
    }
   ],
   "source": [
    "def my_function(numbers):\n",
    "  for i in numbers:\n",
    "    print(i*2+10, end=' ')\n",
    "\n",
    "numbers = [1, 2, 3]\n",
    "my_function(numbers)"
   ]
  },
  {
   "cell_type": "code",
   "execution_count": 15,
   "metadata": {},
   "outputs": [
    {
     "name": "stdout",
     "output_type": "stream",
     "text": [
      "In multiply:  50\n"
     ]
    }
   ],
   "source": [
    "age=25\n",
    "def multiply(num):\n",
    "    num*=2\n",
    "    print(\"In multiply: \", str(num))\n",
    "\n",
    "    multiply(age)"
   ]
  },
  {
   "cell_type": "code",
   "execution_count": 22,
   "metadata": {},
   "outputs": [
    {
     "name": "stdout",
     "output_type": "stream",
     "text": [
      "(1, 2, 3, 4)\n",
      "(15, 'burak')\n"
     ]
    }
   ],
   "source": [
    "def rakamlari_goster(*rakamlar):\n",
    "    print(rakamlar)\n",
    " \n",
    "rakamlari_goster(1,2,3,4)\n",
    "rakamlari_goster(15,'burak')\n",
    "#Sonuç\n",
    "#(1, 2, 3, 4)\n",
    "#(15, 'burak')"
   ]
  },
  {
   "cell_type": "code",
   "execution_count": 23,
   "metadata": {},
   "outputs": [
    {
     "name": "stdout",
     "output_type": "stream",
     "text": [
      "Hello\n",
      "World!\n"
     ]
    }
   ],
   "source": [
    "def my_function(*argv):  \n",
    "    for arg in argv:  \n",
    "        print(arg) \n",
    "\n",
    "my_function('Hello', 'World!')"
   ]
  },
  {
   "cell_type": "code",
   "execution_count": 27,
   "metadata": {},
   "outputs": [
    {
     "name": "stdout",
     "output_type": "stream",
     "text": [
      "[10, 2.5, 'burak', True]\n"
     ]
    }
   ],
   "source": [
    "\n",
    "def fonksiyon(*args):\n",
    " \n",
    "    for i in args:\n",
    "        print(i)\n",
    " \n",
    "liste = [10, 2.5, 'burak', True]\n",
    " \n",
    "fonksiyon(liste)\n",
    " \n",
    "#sonuç\n",
    "#[10, 2.5, 'burak', True]"
   ]
  },
  {
   "cell_type": "code",
   "execution_count": 29,
   "metadata": {},
   "outputs": [
    {
     "name": "stdout",
     "output_type": "stream",
     "text": [
      "First argument: Welcome\n",
      "Next argument: to\n",
      "Next argument: Python!\n"
     ]
    }
   ],
   "source": [
    "def my_function(arg1, *argv): \n",
    "    print (\"First argument:\", arg1) \n",
    "    for arg in argv: \n",
    "        print(\"Next argument:\", arg) \n",
    "\n",
    "my_function('Welcome', 'to', 'Python!')"
   ]
  },
  {
   "cell_type": "code",
   "execution_count": 31,
   "metadata": {},
   "outputs": [
    {
     "name": "stdout",
     "output_type": "stream",
     "text": [
      "The older friend is 13 years\n"
     ]
    }
   ],
   "source": [
    "def my_function(*ages):\n",
    "  print(\"The older friend is \" + ages[0] + \" years\")\n",
    "\n",
    "my_function(\"13\", \"12\", \"11\")"
   ]
  },
  {
   "cell_type": "code",
   "execution_count": 33,
   "metadata": {},
   "outputs": [
    {
     "name": "stdout",
     "output_type": "stream",
     "text": [
      "('Hello', 'World!')\n"
     ]
    }
   ],
   "source": [
    "def my_function(*argv):\n",
    "  print(argv)\n",
    "\n",
    "my_function('Hello', 'World!')"
   ]
  },
  {
   "cell_type": "code",
   "execution_count": 36,
   "metadata": {},
   "outputs": [
    {
     "ename": "SyntaxError",
     "evalue": "unexpected EOF while parsing (<ipython-input-36-b34237c06ae1>, line 2)",
     "output_type": "error",
     "traceback": [
      "\u001b[1;36m  File \u001b[1;32m\"<ipython-input-36-b34237c06ae1>\"\u001b[1;36m, line \u001b[1;32m2\u001b[0m\n\u001b[1;33m    print(int(x)\u001b[0m\n\u001b[1;37m                ^\u001b[0m\n\u001b[1;31mSyntaxError\u001b[0m\u001b[1;31m:\u001b[0m unexpected EOF while parsing\n"
     ]
    }
   ],
   "source": [
    "x = tuple(3)\n",
    "print(int(x)"
   ]
  },
  {
   "cell_type": "code",
   "execution_count": 38,
   "metadata": {},
   "outputs": [
    {
     "name": "stdout",
     "output_type": "stream",
     "text": [
      "(50, 40, 30, 20, 10)\n"
     ]
    }
   ],
   "source": [
    "a = (10, 20, 30, 40, 50)\n",
    "a = a[::-1]\n",
    "print(a)"
   ]
  }
 ],
 "metadata": {
  "kernelspec": {
   "display_name": "Python 3",
   "language": "python",
   "name": "python3"
  },
  "language_info": {
   "codemirror_mode": {
    "name": "ipython",
    "version": 3
   },
   "file_extension": ".py",
   "mimetype": "text/x-python",
   "name": "python",
   "nbconvert_exporter": "python",
   "pygments_lexer": "ipython3",
   "version": "3.6.5"
  }
 },
 "nbformat": 4,
 "nbformat_minor": 4
}
