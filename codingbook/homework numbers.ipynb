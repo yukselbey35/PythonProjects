{
 "cells": [
  {
   "cell_type": "code",
   "execution_count": 3,
   "metadata": {},
   "outputs": [
    {
     "name": "stdout",
     "output_type": "stream",
     "text": [
      "Enter as many number as you want to find out their average(-1 to quit adding):1\n",
      "Enter as many number as you want to find out their average(-1 to quit adding):2\n",
      "Enter as many number as you want to find out their average(-1 to quit adding):3\n",
      "Enter as many number as you want to find out their average(-1 to quit adding):4\n",
      "Enter as many number as you want to find out their average(-1 to quit adding):5\n",
      "Enter as many number as you want to find out their average(-1 to quit adding):-1\n",
      "Here are the numbers you entered [1, 2, 3, 4, 5] Average of numbers you entered is:  2.8\n"
     ]
    }
   ],
   "source": [
    "# Accept a list of integers from user, find the numbers' average, and print the result.\n",
    "\n",
    "list = []\n",
    "\n",
    "numbers = 0\n",
    "while numbers != -1:\n",
    "    numbers = int(input(\"Enter as many number as you want to find out their average(-1 to quit adding):\"))\n",
    "    list.append(numbers)\n",
    "numberOfNumbers = len(list)\n",
    "\n",
    "total = sum(list)\n",
    "if numberOfNumbers == 1:\n",
    "    print(\"You did not enter any number\")\n",
    "else:\n",
    "    average = total/(numberOfNumbers-1)\n",
    "    print(\"Here are the numbers you entered\", list[0:len(list) - 1], \"Average of numbers you entered is: \", average)\n",
    "\n",
    "\n",
    "\n",
    "\n"
   ]
  },
  {
   "cell_type": "code",
   "execution_count": 1,
   "metadata": {},
   "outputs": [
    {
     "name": "stdout",
     "output_type": "stream",
     "text": [
      "how many numbers in your list3\n",
      "Enter a number: 1\n",
      "Enter a number: 2\n",
      "Enter a number: 3\n",
      "2.0\n"
     ]
    }
   ],
   "source": [
    "numList=[]\n",
    "num=0\n",
    "numLenght=int(input(\"how many numbers in your list\")) \n",
    "count=0\n",
    "result=0\n",
    "while True:\n",
    "    num=int(input(\"Enter a number: \"))\n",
    "    numList.append(num)\n",
    "    result+=num\n",
    "    count+=1\n",
    "    if count ==numLenght:\n",
    "        break\n",
    "aver=result/numLenght\n",
    "print(aver)"
   ]
  },
  {
   "cell_type": "code",
   "execution_count": null,
   "metadata": {},
   "outputs": [],
   "source": []
  },
  {
   "cell_type": "code",
   "execution_count": null,
   "metadata": {},
   "outputs": [],
   "source": []
  }
 ],
 "metadata": {
  "kernelspec": {
   "display_name": "Python 3",
   "language": "python",
   "name": "python3"
  },
  "language_info": {
   "codemirror_mode": {
    "name": "ipython",
    "version": 3
   },
   "file_extension": ".py",
   "mimetype": "text/x-python",
   "name": "python",
   "nbconvert_exporter": "python",
   "pygments_lexer": "ipython3",
   "version": "3.7.6"
  }
 },
 "nbformat": 4,
 "nbformat_minor": 4
}
