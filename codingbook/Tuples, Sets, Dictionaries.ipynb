{
 "cells": [
  {
   "cell_type": "code",
   "execution_count": null,
   "metadata": {},
   "outputs": [],
   "source": [
    "number=5\n",
    "number2=5.0\n",
    "print(id(number))\n",
    "print(id(number2))"
   ]
  },
  {
   "cell_type": "code",
   "execution_count": null,
   "metadata": {},
   "outputs": [],
   "source": [
    "mylist=[1,2,3]\n",
    "print(id(mylist))\n",
    "mylist.append(4)\n",
    "mylist\n",
    "print(id(mylist))\n",
    "mylist.append(4)"
   ]
  },
  {
   "cell_type": "code",
   "execution_count": null,
   "metadata": {},
   "outputs": [],
   "source": [
    "#Create a sets\n",
    "numbers={1,1,2,2,2,3,3,3,3,5,6,6}\n",
    "print(numbers)"
   ]
  },
  {
   "cell_type": "code",
   "execution_count": null,
   "metadata": {},
   "outputs": [],
   "source": [
    "alist=[1,2,3]\n",
    "alist.clear()\n",
    "alist\n"
   ]
  },
  {
   "cell_type": "code",
   "execution_count": null,
   "metadata": {},
   "outputs": [],
   "source": [
    "A={1,2,3,4,5,6}\n",
    "B={4,5,6,7,8}\n",
    "print{A-B}"
   ]
  },
  {
   "cell_type": "code",
   "execution_count": null,
   "metadata": {},
   "outputs": [],
   "source": [
    "#Dictionaries contains key and value\n",
    "people={\n",
    "    'tesla':55,\n",
    "    'einstein':35\n",
    "}\n",
    "people['newton']=30\n",
    "print(people)\n",
    "print(people.keys())\n",
    "print(people.values())\n",
    "print(people.items())\n",
    "print(people.keys())\n",
    "print(len(people))\n",
    "people.popitem()\n",
    "print(people)\n",
    "people['newton']=30\n",
    "print(people)\n",
    "people.update({'joseph':25})\n",
    "print(people)"
   ]
  },
  {
   "cell_type": "code",
   "execution_count": null,
   "metadata": {},
   "outputs": [],
   "source": [
    "my_dict=dict()\n",
    "print(type(my_dict))\n",
    "my_dict.update({'age':25})\n",
    "print(my_dict)\n",
    "value=my_dict.setdefault('edison', 50)\n",
    "print(my_dict)\n",
    "print(my_dict.get('edison'))\n",
    "print(my_dict['age'])\n",
    "my_dict.clear()\n",
    "print(my_dict)\n"
   ]
  },
  {
   "cell_type": "code",
   "execution_count": null,
   "metadata": {},
   "outputs": [],
   "source": [
    "myNewDict=dict()\n",
    "x=input(\"Key:\")\n",
    "y=input(\"Value:\")\n",
    "myNewDict[x]=y\n",
    "print(myNewDict)"
   ]
  },
  {
   "cell_type": "code",
   "execution_count": null,
   "metadata": {},
   "outputs": [],
   "source": [
    "myNewDict=dict()\n",
    "myNewDict[input(\"Key:\")]= int(input(\"Value:\"))\n",
    "print(myNewDict)\n"
   ]
  },
  {
   "cell_type": "code",
   "execution_count": null,
   "metadata": {},
   "outputs": [],
   "source": [
    "#Write a program that counts how many time a letter has been entered\n",
    "counting=dict()\n",
    "while True:\n",
    "    letter = input()\n",
    "    print(counting)\n",
    "    value = counting.get(letter)\n",
    "   \n",
    "    if value == None:\n",
    "        counting[letter] = 1\n",
    "    else:\n",
    "        counting[letter] = 1\n",
    "        \n",
    "    "
   ]
  },
  {
   "cell_type": "code",
   "execution_count": null,
   "metadata": {},
   "outputs": [],
   "source": []
  },
  {
   "cell_type": "code",
   "execution_count": null,
   "metadata": {},
   "outputs": [],
   "source": []
  }
 ],
 "metadata": {
  "kernelspec": {
   "display_name": "Python 3",
   "language": "python",
   "name": "python3"
  },
  "language_info": {
   "codemirror_mode": {
    "name": "ipython",
    "version": 3
   },
   "file_extension": ".py",
   "mimetype": "text/x-python",
   "name": "python",
   "nbconvert_exporter": "python",
   "pygments_lexer": "ipython3",
   "version": "3.7.6"
  }
 },
 "nbformat": 4,
 "nbformat_minor": 4
}
