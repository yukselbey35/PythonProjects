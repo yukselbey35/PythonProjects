{
 "cells": [
  {
   "cell_type": "code",
   "execution_count": null,
   "metadata": {},
   "outputs": [],
   "source": [
    "\"\"\"\n",
    "Write a program that has two different functions. First function asks for \n",
    "user input for cylinder height and radius. First function should pass height\n",
    "and radius values onto the\n",
    "Second function which calculates the volume of the cylinder.\n",
    "\"\"\"\n",
    "#define the function pass_value\n",
    "def pass_value():\n",
    "    #a variable is like a box with a name so that can hold value.\n",
    "    height=int(input(\"Enter the height: \"))\n",
    "    radius=int(input(\"Enter the width: \"))\n",
    "    base_area=3.14*radius*radius*height\n",
    "    return base_area\n",
    "def find_result(pass_value):\n",
    "    cylinder_volume=pass_value()\n",
    "    return cylinder_volume\n",
    "\n",
    "print(\"Volume of the cylinder: \"+str(find_result(pass_value)))\n",
    "\n"
   ]
  },
  {
   "cell_type": "code",
   "execution_count": null,
   "metadata": {},
   "outputs": [],
   "source": [
    "num1=int(input(\"Enter the first number: \"))\n",
    "num2=int(input(\"Enter the second number: \"))\n",
    "def calc_area(num1, num2):\n",
    "    area=num1*num2\n",
    "    return area\n",
    "def calc_volume(num1, num2):\n",
    "    volume=3.14*num1*num2\n",
    "    return volume\n",
    "#Call back the function\n",
    "print(calc_area(num1, num2))\n",
    "print(calc_volume(num1, num2))"
   ]
  },
  {
   "cell_type": "code",
   "execution_count": null,
   "metadata": {},
   "outputs": [],
   "source": [
    "#Write a program which checks if the given number is odd or even.\n",
    "# \"check_number%2\" this code divides check_number by 2 and take the remainder\n",
    "#\"check_number%2\" bunun anlami check_number degiskenindeki sayiyi ikiye bol ve kalani al\n",
    "check_number=int(input(\"Enter a number: \"))\n",
    "if check_number%2==0:\n",
    "    print(str(check_number)+\" is an even number\")\n",
    "else:\n",
    "    print(\"This is a odd number\")"
   ]
  },
  {
   "cell_type": "code",
   "execution_count": null,
   "metadata": {},
   "outputs": [],
   "source": [
    "def compare(a,b):\n",
    "    s = \"\"\n",
    "    t=\"\"\n",
    "    for x in a:\n",
    "        for y in b:\n",
    "            if x == y:\n",
    "                t=x\n",
    "        s=s+t\n",
    "    print(s)\n",
    "\n",
    "compare(\"xyz\",\"axy\")"
   ]
  },
  {
   "cell_type": "code",
   "execution_count": null,
   "metadata": {},
   "outputs": [],
   "source": [
    "def compare_string(firstWord, secondWord):\n",
    "    common_letter=\"\" #common_letter variable bos olarak tanimlandi\n",
    "    for i in firstWord: #i firstWord icindeki harfleri sirayla tek tek tariyacak i her seferinde bir harf olacak firstWord icindeki\n",
    "        print(\"Value of i now is: \" +i)\n",
    "        if i in secondWord: #eger i \n",
    "            common_letter=common_letter+i\n",
    "    return common_letter\n",
    "   \n",
    "compare_string(\"abcdef\", \"bxyme\") #call back the function to use it\n",
    "def check_length(firstWord, secondWord):\n",
    "     if (len(firstWord) >len(secondWord)):\n",
    "        a=\"Birinci kelimede daha fazla karaketer var\"\n",
    "        return a\n",
    "check_length(\"abcdef\", \"bxyme\")"
   ]
  },
  {
   "cell_type": "code",
   "execution_count": null,
   "metadata": {},
   "outputs": [],
   "source": [
    "mdegisken=\"mustafa keskin\"\n",
    "for i in mdegisken:\n",
    "    print(i)"
   ]
  },
  {
   "cell_type": "code",
   "execution_count": null,
   "metadata": {},
   "outputs": [],
   "source": [
    "for i in range(2, 30, 3):\n",
    "    print(str(i)+\" I study\")"
   ]
  },
  {
   "cell_type": "code",
   "execution_count": null,
   "metadata": {
    "scrolled": true
   },
   "outputs": [],
   "source": [
    "def kelimeritopla(first, second):\n",
    "    result=first+second\n",
    "    print(result)\n",
    "    \n",
    "kelimeritopla(\"mustafa \", \"keskin\")\n",
    "kelimeritopla(\"yuksel \", \"ak\")\n",
    "kelimeritopla(5, 6)"
   ]
  },
  {
   "cell_type": "code",
   "execution_count": null,
   "metadata": {},
   "outputs": [],
   "source": [
    "#1 Write a function that returns area of a circle when radius of circle as passed as a parameter.\n",
    "def areaof_circle(radius):\n",
    "    result=3.14*(radius**2)\n",
    "    return result\n",
    "#call back the function with parameter\n",
    "result1=areaof_circle(10)\n",
    "#2 Use value of circle from Question 1 and calculate volume of a cylinder in another function.\n",
    "def volumeof_circle(areaof_circle, height):\n",
    "    result_volume=(areaof_circle*height)/2\n",
    "    return result_volume\n",
    "result2=volumeof_circle(areaof_circle(10), 5)\n",
    "print (\"Area of circle: \"+str(result1)) \n",
    "print (\"Volume of the cylinder: \"+str(result2))"
   ]
  },
  {
   "cell_type": "code",
   "execution_count": null,
   "metadata": {},
   "outputs": [],
   "source": [
    "def toplama(a,b,c):\n",
    "    return a+b+c # return'un kullanımı \n",
    "def ikiyle_çarp(a):\n",
    "    return a*2\n",
    " \n",
    "toplam = toplama(3,4,5)\n",
    "print(ikiyle_çarp(toplam))"
   ]
  },
  {
   "cell_type": "code",
   "execution_count": 18,
   "metadata": {},
   "outputs": [
    {
     "name": "stdout",
     "output_type": "stream",
     "text": [
      "[3, 10, 15]\n"
     ]
    }
   ],
   "source": [
    "\"\"\"Write a function that finds the max of any given 3 numbers and passes it onto another function,\n",
    "which prints the max on screen and adds to a new list. Run the program 3 times and come up with 3\n",
    "different max numbers on screen.\"\"\"\n",
    "def three_numbers(num1, num2, num3):\n",
    "    max_num=0\n",
    "    if num1>num2 and num1>num3:\n",
    "        max_num=num1\n",
    "    elif num2>num1 and num2>num3:\n",
    "        max_num=num2\n",
    "    else:\n",
    "        max_num=num3\n",
    "    return max_num\n",
    "\n",
    "def add_list(three_numbers):\n",
    "    new_list=[]\n",
    "    new_list.append(three_numbers(0,1,3))\n",
    "    new_list.append(three_numbers(0,10,3))\n",
    "    new_list.append(three_numbers(0,15,3))\n",
    "    return new_list  \n",
    "w=add_list(three_numbers)\n",
    "print(w)"
   ]
  },
  {
   "cell_type": "code",
   "execution_count": null,
   "metadata": {},
   "outputs": [],
   "source": []
  }
 ],
 "metadata": {
  "kernelspec": {
   "display_name": "Python 3",
   "language": "python",
   "name": "python3"
  },
  "language_info": {
   "codemirror_mode": {
    "name": "ipython",
    "version": 3
   },
   "file_extension": ".py",
   "mimetype": "text/x-python",
   "name": "python",
   "nbconvert_exporter": "python",
   "pygments_lexer": "ipython3",
   "version": "3.7.6"
  }
 },
 "nbformat": 4,
 "nbformat_minor": 4
}
