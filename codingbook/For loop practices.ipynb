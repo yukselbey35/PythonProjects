{
 "cells": [
  {
   "cell_type": "code",
   "execution_count": 2,
   "metadata": {},
   "outputs": [
    {
     "name": "stdout",
     "output_type": "stream",
     "text": [
      "Please enter a number : \n"
     ]
    },
    {
     "ename": "ValueError",
     "evalue": "invalid literal for int() with base 10: ''",
     "output_type": "error",
     "traceback": [
      "\u001b[1;31m---------------------------------------------------------------------------\u001b[0m",
      "\u001b[1;31mValueError\u001b[0m                                Traceback (most recent call last)",
      "\u001b[1;32m<ipython-input-2-d178f624f7f3>\u001b[0m in \u001b[0;36m<module>\u001b[1;34m()\u001b[0m\n\u001b[0;32m      1\u001b[0m \u001b[0mnumber\u001b[0m \u001b[1;33m=\u001b[0m \u001b[0minput\u001b[0m\u001b[1;33m(\u001b[0m\u001b[1;34m'Please enter a number : '\u001b[0m\u001b[1;33m)\u001b[0m\u001b[1;33m\u001b[0m\u001b[0m\n\u001b[1;32m----> 2\u001b[1;33m \u001b[0mnumber\u001b[0m\u001b[1;33m=\u001b[0m\u001b[0mint\u001b[0m\u001b[1;33m(\u001b[0m\u001b[0mnumber\u001b[0m\u001b[1;33m)\u001b[0m\u001b[1;33m\u001b[0m\u001b[0m\n\u001b[0m\u001b[0;32m      3\u001b[0m \u001b[0mfactorial\u001b[0m  \u001b[1;33m=\u001b[0m \u001b[1;36m1\u001b[0m\u001b[1;33m\u001b[0m\u001b[0m\n\u001b[0;32m      4\u001b[0m \u001b[1;32mfor\u001b[0m \u001b[0mi\u001b[0m \u001b[1;32min\u001b[0m \u001b[0mrange\u001b[0m\u001b[1;33m(\u001b[0m\u001b[1;36m1\u001b[0m\u001b[1;33m,\u001b[0m \u001b[0mnumber\u001b[0m\u001b[1;33m+\u001b[0m\u001b[1;36m1\u001b[0m\u001b[1;33m)\u001b[0m\u001b[1;33m:\u001b[0m\u001b[1;33m\u001b[0m\u001b[0m\n\u001b[0;32m      5\u001b[0m     \u001b[0mfactorial\u001b[0m \u001b[1;33m*=\u001b[0m \u001b[0mi\u001b[0m\u001b[1;33m\u001b[0m\u001b[0m\n",
      "\u001b[1;31mValueError\u001b[0m: invalid literal for int() with base 10: ''"
     ]
    }
   ],
   "source": [
    "number = input('Please enter a number : ')\n",
    "\n",
    "factorial  = 1\n",
    "for i in range(1, number+1):\n",
    "    factorial *= i\n",
    "print(f'Factorial of the number {number} is {factorial}')\n",
    "\n"
   ]
  },
  {
   "cell_type": "code",
   "execution_count": 4,
   "metadata": {},
   "outputs": [
    {
     "name": "stdout",
     "output_type": "stream",
     "text": [
      "5 120\n"
     ]
    }
   ],
   "source": [
    "num = 5\n",
    "factorial = 1\n",
    "if num < 0:\n",
    "   print(\"must be positive\")\n",
    "elif num == 0:\n",
    "   print(\"factorial = 1\")\n",
    "else:\n",
    "   for i in range(1,num + 1):\n",
    "       factorial = factorial*i\n",
    "   print(num, factorial)"
   ]
  },
  {
   "cell_type": "code",
   "execution_count": 5,
   "metadata": {},
   "outputs": [
    {
     "name": "stdout",
     "output_type": "stream",
     "text": [
      "1 2 5 0 "
     ]
    }
   ],
   "source": [
    "list = [1, 2, -7, 5, 0]\n",
    "for num in list:\n",
    "    \n",
    "    if num >= 0:\n",
    "        print(num, end = \" \")"
   ]
  },
  {
   "cell_type": "code",
   "execution_count": 6,
   "metadata": {},
   "outputs": [
    {
     "name": "stdout",
     "output_type": "stream",
     "text": [
      "1 2 5 0 "
     ]
    }
   ],
   "source": [
    "alist=[1, 2, -7, 5, 0]\n",
    "for i in list:\n",
    "    if i>=0:\n",
    "        print (i, end=\" \")"
   ]
  },
  {
   "cell_type": "code",
   "execution_count": 7,
   "metadata": {},
   "outputs": [
    {
     "name": "stdout",
     "output_type": "stream",
     "text": [
      "18\n"
     ]
    }
   ],
   "source": [
    "alist=[1, 2, -7, 5, 10, 0]\n",
    "i=0\n",
    "result=0\n",
    "\n",
    "for item in alist:\n",
    "    if item >0 :\n",
    "        result +=item\n",
    "print (result)"
   ]
  },
  {
   "cell_type": "code",
   "execution_count": 14,
   "metadata": {},
   "outputs": [
    {
     "name": "stdout",
     "output_type": "stream",
     "text": [
      "18\n"
     ]
    }
   ],
   "source": [
    "alist=[1, 2, -7, 5, 10, 0]\n",
    "i=0\n",
    "result=0\n",
    "while i <len(alist):\n",
    "    if alist[i] > 0:\n",
    "         result +=alist[i]\n",
    "    i +=1\n",
    "print (result)\n",
    "        "
   ]
  },
  {
   "cell_type": "code",
   "execution_count": 13,
   "metadata": {},
   "outputs": [
    {
     "name": "stdout",
     "output_type": "stream",
     "text": [
      "18\n"
     ]
    }
   ],
   "source": [
    "alist=[1, 2, -7, 5, 10, 0]\n",
    "i=0\n",
    "result=0\n",
    "\n",
    "for i in range(len(alist)):\n",
    "    if alist[i] >0 :\n",
    "        result +=alist[i]\n",
    "print (result)"
   ]
  },
  {
   "cell_type": "code",
   "execution_count": 18,
   "metadata": {},
   "outputs": [
    {
     "name": "stdout",
     "output_type": "stream",
     "text": [
      "[-1, -2, 7, -5, 0]\n"
     ]
    }
   ],
   "source": [
    "alist=[1, 2, -7, 5, 0]\n",
    "i=0\n",
    "result=0\n",
    "\n",
    "for i in range(len(alist)):\n",
    "    if alist[i] > 0:\n",
    "        alist[i] = alist[i] * -1\n",
    "    elif alist[i] < 0:\n",
    "        alist[i] = alist[i] * -1\n",
    "    else:\n",
    "        pass\n",
    "        \n",
    "        \n",
    "print (alist)"
   ]
  },
  {
   "cell_type": "code",
   "execution_count": 19,
   "metadata": {},
   "outputs": [
    {
     "name": "stdout",
     "output_type": "stream",
     "text": [
      "[-1, -2, 7, -5, 0]\n"
     ]
    }
   ],
   "source": [
    "alist=[1, 2, -7, 5, 0]\n",
    "\n",
    "for i in range(len(alist)):\n",
    "    alist[i] = alist[i] * -1\n",
    "print(alist)"
   ]
  },
  {
   "cell_type": "code",
   "execution_count": 20,
   "metadata": {},
   "outputs": [
    {
     "data": {
      "text/plain": [
       "-5"
      ]
     },
     "execution_count": 20,
     "metadata": {},
     "output_type": "execute_result"
    }
   ],
   "source": [
    "a=-3\n",
    "b=2\n",
    "if a > b:\n",
    "    a, b = b, a\n"
   ]
  },
  {
   "cell_type": "code",
   "execution_count": 25,
   "metadata": {},
   "outputs": [
    {
     "name": "stdout",
     "output_type": "stream",
     "text": [
      "-3\n",
      "-2\n",
      "-1\n",
      "0\n",
      "1\n",
      "2\n",
      "3\n",
      "4\n",
      "5\n",
      "6\n",
      "7\n",
      "8\n",
      "9\n",
      "10\n",
      "11\n",
      "60\n"
     ]
    }
   ],
   "source": [
    "sum=0\n",
    "a=-3\n",
    "b=12\n",
    "\n",
    "for number in range(a, b):\n",
    "    print(number)\n",
    "    sum +=number\n",
    "print(sum)"
   ]
  },
  {
   "cell_type": "code",
   "execution_count": 41,
   "metadata": {},
   "outputs": [
    {
     "name": "stdout",
     "output_type": "stream",
     "text": [
      "char:*\n",
      "num:5\n",
      "*****\n",
      "*****\n",
      "*****\n",
      "*****\n",
      "*****\n"
     ]
    }
   ],
   "source": [
    "\n",
    "char=input(\"char:\")\n",
    "number =int(input(\"num:\"))\n",
    "for i in range(number):\n",
    "    print(char*number)\n",
    "    \n",
    "\n",
    "        \n",
    "   "
   ]
  },
  {
   "cell_type": "code",
   "execution_count": 40,
   "metadata": {},
   "outputs": [
    {
     "ename": "IndentationError",
     "evalue": "expected an indented block (<ipython-input-40-a9af9ebfebfc>, line 5)",
     "output_type": "error",
     "traceback": [
      "\u001b[1;36m  File \u001b[1;32m\"<ipython-input-40-a9af9ebfebfc>\"\u001b[1;36m, line \u001b[1;32m5\u001b[0m\n\u001b[1;33m    print(\"*\"*i)\u001b[0m\n\u001b[1;37m        ^\u001b[0m\n\u001b[1;31mIndentationError\u001b[0m\u001b[1;31m:\u001b[0m expected an indented block\n"
     ]
    }
   ],
   "source": [
    "char=input(\"char:\")\n",
    "number =int(input(\"num:\"))\n",
    "for i in range(number):\n",
    "    for j in range(number):\n",
    "    print(\"*\"*i)"
   ]
  },
  {
   "cell_type": "code",
   "execution_count": 46,
   "metadata": {},
   "outputs": [
    {
     "name": "stdout",
     "output_type": "stream",
     "text": [
      "4\n"
     ]
    }
   ],
   "source": [
    "eList=[[False, False, False],[True,True,True],[False,True,False]]\n",
    "\n",
    "count = 0\n",
    "for i in eList :\n",
    "    for j in i:\n",
    "        if j is True:\n",
    "            count += 1\n",
    "print(count)\n",
    "        "
   ]
  },
  {
   "cell_type": "code",
   "execution_count": 49,
   "metadata": {},
   "outputs": [
    {
     "name": "stdout",
     "output_type": "stream",
     "text": [
      "4\n"
     ]
    }
   ],
   "source": [
    "count = 0\n",
    "garden=[[False, False, False],[True,True,True],[False,True,False]]\n",
    "for row in garden:\n",
    "    count +=row.count(True)\n",
    "print(count)"
   ]
  },
  {
   "cell_type": "code",
   "execution_count": 52,
   "metadata": {},
   "outputs": [
    {
     "name": "stdout",
     "output_type": "stream",
     "text": [
      "Count of Pos: 5\n",
      " Sum of Negatives: -6\n"
     ]
    }
   ],
   "source": [
    "twodim=[[5,-4,0],[-2,8,1],[0,3,5]]\n",
    "sum=0\n",
    "count=0\n",
    "for row in twodim:\n",
    "    for item in row:\n",
    "        if item>0:\n",
    "            count+=1\n",
    "        elif item <0:\n",
    "            sum +=item\n",
    "        else:\n",
    "            pass\n",
    "print (f\"Count of Pos: {count}\\n Sum of Negatives: {sum}\")"
   ]
  },
  {
   "cell_type": "code",
   "execution_count": 53,
   "metadata": {},
   "outputs": [
    {
     "name": "stdout",
     "output_type": "stream",
     "text": [
      "Count of Pos: 39\n",
      " Sum of Negatives: -2286\n"
     ]
    }
   ],
   "source": [
    "twodimm=[[53, 7, 25, 69, -66, -84, -11, 8, -78], [-31, -33, 16, 27, 85, 67, -10, 0, 93], [-38, 83, -70, 93, -58, -79, -90, -83, 24], [94, 74, -30, -55, 65, 99, -86, 2, 57], [-42, -96, -90, -14, 80, -73, -24, 31, -54], [93, -60, -63, -5, 7, -51, -96, 37, -12], [-40, 85, -98, -14, 66, -55, -89, 77, -50], [21, 14, -53, 97, -50, -56, 57, 48, 57], [95, -84, 19, 37, 20, -70, -45, 51, 96]]\n",
    "sum=0\n",
    "count=0\n",
    "for row in twodimm:\n",
    "    for item in row:\n",
    "        if item>0:\n",
    "            count+=1\n",
    "        elif item <0:\n",
    "            sum +=item\n",
    "        else:\n",
    "            pass\n",
    "print (f\"Count of Pos: {count}\\n Sum of Negatives: {sum}\")"
   ]
  },
  {
   "cell_type": "code",
   "execution_count": null,
   "metadata": {},
   "outputs": [],
   "source": []
  }
 ],
 "metadata": {
  "kernelspec": {
   "display_name": "Python 3",
   "language": "python",
   "name": "python3"
  },
  "language_info": {
   "codemirror_mode": {
    "name": "ipython",
    "version": 3
   },
   "file_extension": ".py",
   "mimetype": "text/x-python",
   "name": "python",
   "nbconvert_exporter": "python",
   "pygments_lexer": "ipython3",
   "version": "3.6.5"
  }
 },
 "nbformat": 4,
 "nbformat_minor": 4
}
