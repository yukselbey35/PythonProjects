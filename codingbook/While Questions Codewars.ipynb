{
 "cells": [
  {
   "cell_type": "code",
   "execution_count": null,
   "metadata": {},
   "outputs": [],
   "source": [
    "i=0\n",
    "sumN=0\n",
    "while i<6:\n",
    "    sumN+=i\n",
    "    i+=1\n",
    "print (sumN)"
   ]
  },
  {
   "cell_type": "code",
   "execution_count": null,
   "metadata": {},
   "outputs": [],
   "source": [
    "#With the continue statement we can stop the current iteration, and continue with the next:\n",
    "# Note that number 3 is missing in the result\n",
    "i=0\n",
    "while i<6:\n",
    "    i+=1\n",
    "    # print (i) check the print i before and after\n",
    "    if i==3:\n",
    "        continue\n",
    "    print (i)\n",
    "    "
   ]
  },
  {
   "cell_type": "code",
   "execution_count": null,
   "metadata": {},
   "outputs": [],
   "source": [
    "#With the break statement we can stop the loop even if the while condition is true:\n",
    "i=0\n",
    "while i<6:\n",
    "    # print (i) check the print i before and after\n",
    "    if i==3:\n",
    "        break\n",
    "    print (i)\n",
    "    i+=1"
   ]
  },
  {
   "cell_type": "code",
   "execution_count": null,
   "metadata": {},
   "outputs": [],
   "source": [
    "def createList(r1, r2): \n",
    "    myNum=[item for item in range(r1, r2+1)]\n",
    "    return myNum\n",
    "      \n",
    "# Driver Code \n",
    "r1, r2 = -1, 0\n",
    "print(createList(r1, r2)) \n",
    "print(createList(-2, 3)) "
   ]
  },
  {
   "cell_type": "code",
   "execution_count": null,
   "metadata": {},
   "outputs": [],
   "source": [
    "\"\"\"\n",
    "Given two integers a and b, which can be positive or negative, find the sum of all the numbers between including them too and return it. If the two numbers are equal return a or b.\n",
    "Note: a and b are not ordered!\n",
    "Examples\n",
    "get_sum(-1, 2) == 2  // -1 + 0 + 1 + 2 = 2\n",
    "\"\"\"\n",
    "def get_sum(a,b):\n",
    "    #good luck!\n",
    "    numList1=[i for i in range(a, b+1)]\n",
    "    total=0\n",
    "    i=0\n",
    "    limit=len(numList1)\n",
    "    while True:\n",
    "        \n",
    "        total+=numList1[i]\n",
    "        i+=1\n",
    "        if i ==limit:\n",
    "            break\n",
    "    return total\n",
    "       \n",
    "get_sum(-1, 2)"
   ]
  },
  {
   "cell_type": "code",
   "execution_count": 18,
   "metadata": {},
   "outputs": [
    {
     "name": "stdout",
     "output_type": "stream",
     "text": [
      "15\n"
     ]
    }
   ],
   "source": [
    "\"\"\"\n",
    "Summation\n",
    "Write a program that finds the summation of every number from 1 to num. \n",
    "The number will always be a positive integer greater than 0.\n",
    "For example:\n",
    "summation(2) -> 3\n",
    "1 + 2\n",
    "summation(8) -> 36\n",
    "1 + 2 + 3 + 4 + 5 + 6 + 7 + 8\n",
    "\"\"\"\n",
    "def summation(num):\n",
    "    sumNum=list(range(1, num+1))\n",
    "    total=0\n",
    "    i=0\n",
    "    while True:\n",
    "        total=total+sumNum[i]\n",
    "        if i==(num-1):\n",
    "            break  \n",
    "        i+=1\n",
    "    return total\n",
    "    pass # Code here\n",
    "    \n",
    "print(summation(5))\n",
    "    \n"
   ]
  },
  {
   "cell_type": "code",
   "execution_count": 22,
   "metadata": {},
   "outputs": [
    {
     "data": {
      "text/plain": [
       "15"
      ]
     },
     "execution_count": 22,
     "metadata": {},
     "output_type": "execute_result"
    }
   ],
   "source": [
    "def summation(num):\n",
    "    total=sum(range(1, num+1))\n",
    "    return total\n",
    "summation(5)"
   ]
  },
  {
   "cell_type": "code",
   "execution_count": 37,
   "metadata": {},
   "outputs": [
    {
     "data": {
      "text/plain": [
       "5"
      ]
     },
     "execution_count": 37,
     "metadata": {},
     "output_type": "execute_result"
    }
   ],
   "source": [
    "\"\"\"\n",
    "Your task is to make function, which returns the sum of a sequence of integers.\n",
    "The sequence is defined by 3 non-negative values: begin, end, step.\n",
    "If begin value is greater than the end, function should returns 0\n",
    "Examples\n",
    "sequenceSum(2,2,2) === 2\n",
    "sequenceSum(2,6,2) === 12 // 2 + 4 + 6\n",
    "sequenceSum(1,5,1) === 15 // 1 + 2 + 3 + 4 + 5\n",
    "sequenceSum(1,5,3) === 5 // 1 + 4\n",
    "\"\"\"\n",
    "def sequence_sum(begin_number, end_number, step):\n",
    "    #your code here\n",
    "    myList=list(range(begin_number, end_number, step))\n",
    "    if begin_number>end_number:\n",
    "        return 0\n",
    "    else:\n",
    "        total=sum(myList)\n",
    "        return total\n",
    "#sequence_sum(2,6,2)\n",
    "sequence_sum(1, 5, 3)\n",
    "#list3=list(range(2, 20, 2))\n",
    "#print(list3)"
   ]
  },
  {
   "cell_type": "code",
   "execution_count": null,
   "metadata": {},
   "outputs": [],
   "source": []
  }
 ],
 "metadata": {
  "kernelspec": {
   "display_name": "Python 3",
   "language": "python",
   "name": "python3"
  },
  "language_info": {
   "codemirror_mode": {
    "name": "ipython",
    "version": 3
   },
   "file_extension": ".py",
   "mimetype": "text/x-python",
   "name": "python",
   "nbconvert_exporter": "python",
   "pygments_lexer": "ipython3",
   "version": "3.7.6"
  }
 },
 "nbformat": 4,
 "nbformat_minor": 4
}
