{
 "cells": [
  {
   "cell_type": "code",
   "execution_count": 2,
   "metadata": {},
   "outputs": [
    {
     "name": "stdout",
     "output_type": "stream",
     "text": [
      "Coding Book\n",
      "1\n",
      "Coding Book\n",
      "2\n",
      "Coding Book\n",
      "3\n",
      "Coding Book\n",
      "4\n",
      "Coding Book\n",
      "5\n",
      "Coding Book\n",
      "6\n"
     ]
    }
   ],
   "source": [
    "count=0\n",
    "while count<=5:\n",
    "    print (\"Coding Book\")\n",
    "    count +=1  #count=count+1\n",
    "    print (count)"
   ]
  },
  {
   "cell_type": "code",
   "execution_count": 6,
   "metadata": {},
   "outputs": [
    {
     "name": "stdout",
     "output_type": "stream",
     "text": [
      "Coding Book\n",
      "9\n",
      "Coding Book\n",
      "8\n",
      "Coding Book\n",
      "7\n",
      "Coding Book\n",
      "6\n",
      "Coding Book\n",
      "5\n",
      "Coding Book\n",
      "4\n",
      "Coding Book\n",
      "3\n",
      "Coding Book\n",
      "2\n",
      "Coding Book\n",
      "1\n",
      "Coding Book\n",
      "0\n"
     ]
    }
   ],
   "source": [
    "count=10\n",
    "while count >0:\n",
    "    print (\"Coding Book\")\n",
    "    count -=1  #count=count+1\n",
    "    print (count)"
   ]
  },
  {
   "cell_type": "code",
   "execution_count": null,
   "metadata": {},
   "outputs": [],
   "source": [
    "count = 1\n",
    "while count <=10:\n",
    "    square = count*count\n",
    "    print(square)\n",
    "    count +=1"
   ]
  },
  {
   "cell_type": "code",
   "execution_count": null,
   "metadata": {},
   "outputs": [],
   "source": [
    "pbagdict =dict()\n",
    "pbagdict[\"eggs\"]=4\n",
    "pbagdict.update([(\"bread\", 2), (\"milk\", 1), (\"water\", 1)])\n",
    "print(pbagdict)\n"
   ]
  },
  {
   "cell_type": "code",
   "execution_count": null,
   "metadata": {},
   "outputs": [],
   "source": [
    "pbagdict[\"ch_bar\"] =1\n",
    "pbagdict[\"water\"]+=1\n",
    "print(pbagdict)\n",
    "pbagdict.get(\"water\")"
   ]
  },
  {
   "cell_type": "code",
   "execution_count": null,
   "metadata": {},
   "outputs": [],
   "source": [
    "count = 1\n",
    "while count <=10:\n",
    "    power = pow(count, count)\n",
    "    print(power)\n",
    "    count +=1"
   ]
  },
  {
   "cell_type": "code",
   "execution_count": null,
   "metadata": {},
   "outputs": [],
   "source": [
    "count = 10\n",
    "while count > 0:\n",
    "    power = count ** (1/2)\n",
    "    print(power)\n",
    "    count -=1"
   ]
  },
  {
   "cell_type": "code",
   "execution_count": null,
   "metadata": {},
   "outputs": [],
   "source": [
    "#Break stops the loop\n",
    "#Continue skips to the next iteration\n",
    "#Else:works when while condition is not true\n",
    "count = 1\n",
    "while count <=5:\n",
    "    power = count ** 2\n",
    "    print(power)\n",
    "    count +=1"
   ]
  },
  {
   "cell_type": "code",
   "execution_count": null,
   "metadata": {},
   "outputs": [],
   "source": [
    "#Break stops the loop\n",
    "#Continue skips to the next iteration\n",
    "#Else:works when while condition is not true\n",
    "count = 1\n",
    "while count <=5:\n",
    "    if count ==3:\n",
    "        break\n",
    "    power = count ** 2\n",
    "    print(power)\n",
    "    count +=1\n",
    "print(\"Finished\") "
   ]
  },
  {
   "cell_type": "code",
   "execution_count": null,
   "metadata": {},
   "outputs": [],
   "source": [
    "#Break stops the loop\n",
    "#Continue skips to the next iteration\n",
    "#Else:works when while condition is not true\n",
    "count = 1\n",
    "while count <=5:\n",
    "    if count ==3:\n",
    "        count +=1\n",
    "        continue\n",
    "    power = count ** 2\n",
    "    print(power)\n",
    "    count +=1\n",
    "print(\"Finished\") "
   ]
  },
  {
   "cell_type": "code",
   "execution_count": null,
   "metadata": {},
   "outputs": [],
   "source": [
    "friends = [\"Eric\", \"John\", \"Lisa\"]\n",
    "while friends : #friends turn automatically boolean value\n",
    "    print(friends.pop())\n",
    "print(friends)"
   ]
  },
  {
   "cell_type": "code",
   "execution_count": null,
   "metadata": {},
   "outputs": [],
   "source": [
    "friends = [\"Eric\", \"John\", \"Lisa\"]\n",
    "while friends ==True:\n",
    "    print(friends.pop())\n",
    "print(friends)"
   ]
  },
  {
   "cell_type": "code",
   "execution_count": null,
   "metadata": {},
   "outputs": [],
   "source": [
    "friends = [\"Eric\", \"John\", \"Lisa\"]\n",
    "while bool(friends) ==True:\n",
    "    print(friends.pop())\n",
    "print(friends)"
   ]
  },
  {
   "cell_type": "code",
   "execution_count": null,
   "metadata": {},
   "outputs": [],
   "source": [
    "friends = [\"Eric\", \"John\", \"Lisa\"]\n",
    "boolvalue = bool(friends)\n",
    "print(boolvalue)\n",
    "while friends ==True:\n",
    "    boolvalue = bool(friends)\n",
    "    print(friends.pop())\n",
    "print(friends)"
   ]
  },
  {
   "cell_type": "code",
   "execution_count": null,
   "metadata": {},
   "outputs": [],
   "source": [
    "number = -10\n",
    "while number <=10:\n",
    "    if number < 0:\n",
    "        print(f\"{number} is negative\")\n",
    "    elif number ==0:\n",
    "        print (\"It is 0\")\n",
    "    else:\n",
    "        print(f\"{number} is Positive\")\n",
    "    number +=1"
   ]
  },
  {
   "cell_type": "code",
   "execution_count": null,
   "metadata": {},
   "outputs": [],
   "source": [
    "while True:\n",
    "    command = input(\"Give me a command: \")\n",
    "    if command ==\"exit\":\n",
    "        break\n",
    "print (\"Finished\")"
   ]
  },
  {
   "cell_type": "code",
   "execution_count": null,
   "metadata": {},
   "outputs": [],
   "source": [
    "while True:\n",
    "    command = input(\"Give me a command: \")\n",
    "    if command ==\"exit\":\n",
    "        break\n",
    "print (\"Finished\")"
   ]
  },
  {
   "cell_type": "code",
   "execution_count": null,
   "metadata": {},
   "outputs": [],
   "source": [
    "#Let's write a multiplication program that doesn't use *\n",
    "print (\"Enter two numbers that you want to multiply.\")\n",
    "product = 0\n",
    "number1 = int(input(\"What is your first number? \"))\n",
    "number2 = int(input(\"What is your second number? \"))\n",
    "count = 1\n",
    "while count <= number1:\n",
    "    product = number2 + product\n",
    "    count += 1\n",
    "print(product)"
   ]
  },
  {
   "cell_type": "code",
   "execution_count": null,
   "metadata": {},
   "outputs": [],
   "source": [
    "count=1\n",
    "while count <=5:\n",
    "    print (count)\n",
    "    count+=1.\n",
    "print(\"finished\")"
   ]
  },
  {
   "cell_type": "code",
   "execution_count": null,
   "metadata": {},
   "outputs": [],
   "source": [
    "count=1\n",
    "while count <=5:\n",
    "    print(count)\n",
    "    if (count ==3):\n",
    "        break\n",
    "    count+=1"
   ]
  },
  {
   "cell_type": "code",
   "execution_count": null,
   "metadata": {},
   "outputs": [],
   "source": [
    "count=0\n",
    "while count <=5:\n",
    "    count+=1\n",
    "    if count ==3:\n",
    "        continue\n",
    "    print (count)\n",
    "print (\"Finished\")"
   ]
  },
  {
   "cell_type": "code",
   "execution_count": null,
   "metadata": {},
   "outputs": [],
   "source": [
    "count=1\n",
    "while count <=5:\n",
    "    print(count)\n",
    "    count+=1\n",
    "    \n",
    "print(\"Number is bigger than 5\")"
   ]
  },
  {
   "cell_type": "code",
   "execution_count": 7,
   "metadata": {},
   "outputs": [
    {
     "name": "stdout",
     "output_type": "stream",
     "text": [
      "Even numbers: 76\n",
      "Odd numbers: 75\n",
      "Even numbers: [0, 2, 4, 6, 8, 10, 12, 14, 16, 18, 20, 22, 24, 26, 28, 30, 32, 34, 36, 38, 40, 42, 44, 46, 48, 50, 52, 54, 56, 58, 60, 62, 64, 66, 68, 70, 72, 74, 76, 78, 80, 82, 84, 86, 88, 90, 92, 94, 96, 98, 100, 102, 104, 106, 108, 110, 112, 114, 116, 118, 120, 122, 124, 126, 128, 130, 132, 134, 136, 138, 140, 142, 144, 146, 148, 150]\n",
      "Odd numbers: [1, 3, 5, 7, 9, 11, 13, 15, 17, 19, 21, 23, 25, 27, 29, 31, 33, 35, 37, 39, 41, 43, 45, 47, 49, 51, 53, 55, 57, 59, 61, 63, 65, 67, 69, 71, 73, 75, 77, 79, 81, 83, 85, 87, 89, 91, 93, 95, 97, 99, 101, 103, 105, 107, 109, 111, 113, 115, 117, 119, 121, 123, 125, 127, 129, 131, 133, 135, 137, 139, 141, 143, 145, 147, 149]\n"
     ]
    }
   ],
   "source": [
    "\"\"\"\n",
    "makeList=[]\n",
    "for i in range(1, 151):\n",
    "    makeList.append(i)\n",
    "\"\"\"\n",
    "countOdd=0\n",
    "countEven=0\n",
    "evenNum=[]\n",
    "oddNum=[]\n",
    "count=0\n",
    "i=1\n",
    "while count<151:\n",
    "    \n",
    "    if count%2==0:\n",
    "        evenNum.append(count)\n",
    "        countEven+=1\n",
    "    else:\n",
    "        oddNum.append(count)\n",
    "        countOdd+=1\n",
    "    count+=1\n",
    "        \n",
    "\n",
    "print (f\"Even numbers: {countEven}\" )\n",
    "print (f\"Odd numbers: {countOdd}\")\n",
    "print (f\"Even numbers: {evenNum}\" )\n",
    "print (f\"Odd numbers: {oddNum}\")    \n",
    "        \n",
    "\n",
    "    "
   ]
  },
  {
   "cell_type": "code",
   "execution_count": 9,
   "metadata": {},
   "outputs": [
    {
     "name": "stdout",
     "output_type": "stream",
     "text": [
      "1\n",
      "2\n",
      "3\n",
      "4\n",
      "5\n",
      "6\n",
      "7\n",
      "8\n",
      "9\n",
      "10\n",
      "11\n",
      "12\n",
      "13\n",
      "14\n",
      "15\n",
      "16\n",
      "17\n",
      "18\n",
      "19\n",
      "20\n",
      "21\n",
      "22\n",
      "23\n",
      "24\n",
      "25\n",
      "26\n",
      "27\n",
      "28\n",
      "29\n",
      "30\n",
      "31\n",
      "32\n",
      "33\n",
      "34\n",
      "35\n",
      "36\n",
      "37\n",
      "38\n",
      "39\n",
      "40\n",
      "41\n",
      "42\n",
      "43\n",
      "44\n",
      "45\n",
      "46\n",
      "47\n",
      "48\n",
      "49\n",
      "50\n",
      "51\n",
      "52\n",
      "53\n",
      "54\n",
      "55\n",
      "56\n",
      "57\n",
      "58\n",
      "59\n",
      "60\n",
      "61\n",
      "62\n",
      "63\n",
      "64\n",
      "65\n",
      "66\n",
      "67\n",
      "68\n",
      "69\n",
      "70\n",
      "71\n",
      "72\n",
      "73\n",
      "74\n",
      "75\n",
      "76\n",
      "77\n",
      "78\n",
      "79\n",
      "80\n",
      "81\n",
      "82\n",
      "83\n",
      "84\n",
      "85\n",
      "86\n",
      "87\n",
      "88\n",
      "89\n",
      "90\n",
      "91\n",
      "92\n",
      "93\n",
      "94\n",
      "95\n",
      "96\n",
      "97\n",
      "98\n",
      "99\n",
      "100\n",
      "101\n",
      "102\n",
      "103\n",
      "104\n",
      "105\n",
      "106\n",
      "107\n",
      "108\n",
      "109\n",
      "110\n",
      "111\n",
      "112\n",
      "113\n",
      "114\n",
      "115\n",
      "116\n",
      "117\n",
      "118\n",
      "119\n",
      "120\n",
      "121\n",
      "122\n",
      "123\n",
      "124\n",
      "125\n",
      "126\n",
      "127\n",
      "128\n",
      "129\n",
      "130\n",
      "131\n",
      "132\n",
      "133\n",
      "134\n",
      "135\n",
      "136\n",
      "137\n",
      "138\n",
      "139\n",
      "140\n",
      "141\n",
      "142\n",
      "143\n",
      "144\n",
      "145\n",
      "146\n",
      "147\n",
      "148\n",
      "149\n",
      "150\n"
     ]
    }
   ],
   "source": [
    "makeList=[]\n",
    "countOdd=0\n",
    "countEven=0\n",
    "evenNum=[]\n",
    "oddNum=[]\n",
    "count=0\n",
    "for i in range(1, 151):\n",
    "    makeList.append(i)\n",
    "for i in makeList:\n",
    "    print (i)\n",
    "    "
   ]
  },
  {
   "cell_type": "code",
   "execution_count": null,
   "metadata": {},
   "outputs": [],
   "source": []
  }
 ],
 "metadata": {
  "kernelspec": {
   "display_name": "Python 3",
   "language": "python",
   "name": "python3"
  },
  "language_info": {
   "codemirror_mode": {
    "name": "ipython",
    "version": 3
   },
   "file_extension": ".py",
   "mimetype": "text/x-python",
   "name": "python",
   "nbconvert_exporter": "python",
   "pygments_lexer": "ipython3",
   "version": "3.7.6"
  }
 },
 "nbformat": 4,
 "nbformat_minor": 4
}
