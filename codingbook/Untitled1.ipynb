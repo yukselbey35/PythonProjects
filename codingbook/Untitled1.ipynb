{
 "cells": [
  {
   "cell_type": "code",
   "execution_count": null,
   "metadata": {},
   "outputs": [],
   "source": [
    "sum_list=[]\n",
    "def sum_list(number):\n",
    "    sum=0\n",
    "    for i in range(number):\n",
    "        sum+=i\n",
    "    return sum"
   ]
  },
  {
   "cell_type": "code",
   "execution_count": null,
   "metadata": {},
   "outputs": [],
   "source": [
    "sum_list(15)"
   ]
  },
  {
   "cell_type": "code",
   "execution_count": 1,
   "metadata": {},
   "outputs": [
    {
     "name": "stdout",
     "output_type": "stream",
     "text": [
      "15\n"
     ]
    }
   ],
   "source": [
    "def max_num(numbers):\n",
    "    return max(numbers)\n",
    "max_list=[5,10,15]\n",
    "print(max_num(max_list))"
   ]
  },
  {
   "cell_type": "code",
   "execution_count": 3,
   "metadata": {},
   "outputs": [],
   "source": [
    "def max_list(num_list):\n",
    "    \n",
    "    for i in num_list:\n",
    "        if i>max_value:\n",
    "            max_value=i\n",
    "    return max_value\n",
    "my_list=[5,10,15]\n"
   ]
  },
  {
   "cell_type": "code",
   "execution_count": 8,
   "metadata": {},
   "outputs": [
    {
     "data": {
      "text/plain": [
       "'olleH'"
      ]
     },
     "execution_count": 8,
     "metadata": {},
     "output_type": "execute_result"
    }
   ],
   "source": [
    "def reverse_string(wstring):\n",
    "    a=wstring[::-1]\n",
    "    return a\n",
    "\n",
    "reverse_string(\"Hello\")"
   ]
  },
  {
   "cell_type": "code",
   "execution_count": 9,
   "metadata": {},
   "outputs": [
    {
     "name": "stdout",
     "output_type": "stream",
     "text": [
      "olleH\n"
     ]
    }
   ],
   "source": [
    "def reverse_string(my_string):\n",
    "    reverse_str=\"\"\n",
    "    index=len(my_string)\n",
    "    while index>0:\n",
    "        reverse_str+=my_string[index-1]\n",
    "        index=index-1\n",
    "    return reverse_str\n",
    "print(reverse_string(\"Hello\"))"
   ]
  },
  {
   "cell_type": "code",
   "execution_count": 15,
   "metadata": {},
   "outputs": [
    {
     "data": {
      "text/plain": [
       "'Even'"
      ]
     },
     "execution_count": 15,
     "metadata": {},
     "output_type": "execute_result"
    }
   ],
   "source": [
    "def print_even(num):\n",
    "    if num%2==0:\n",
    "        return \"Even\"\n",
    "def print_odd(num):\n",
    "    if num%2==1:\n",
    "        return \"Odd\"\n",
    "\n",
    "print_even(6)"
   ]
  },
  {
   "cell_type": "code",
   "execution_count": 16,
   "metadata": {},
   "outputs": [
    {
     "data": {
      "text/plain": [
       "'\\ndef print_even(i)\\ndef odd_or_even(my_list):\\n    for i in my_list:\\n        if i%2 ==0:\\n            print_even(i)\\n        else:\\n            print_odd(i)\\n            \\n'"
      ]
     },
     "execution_count": 16,
     "metadata": {},
     "output_type": "execute_result"
    }
   ],
   "source": [
    "\"\"\"\n",
    "def print_even(i)\n",
    "def odd_or_even(my_list):\n",
    "    for i in my_list:\n",
    "        if i%2 ==0:\n",
    "            print_even(i)\n",
    "        else:\n",
    "            print_odd(i)\n",
    "            \n",
    "\"\"\""
   ]
  },
  {
   "cell_type": "code",
   "execution_count": 18,
   "metadata": {},
   "outputs": [
    {
     "name": "stdout",
     "output_type": "stream",
     "text": [
      "The total point is 0.0\n"
     ]
    }
   ],
   "source": [
    "def ticket(speed):\n",
    "    sumPoints=0\n",
    "    if speed<80:\n",
    "        print(\"Speed ok\")\n",
    "    else:\n",
    "        sumPoints =(speed-80)/5\n",
    "    if sumPoints>10:\n",
    "        print(\"Lisence suspended\")\n",
    "    else:\n",
    "        print(f\"The total point is {sumPoints}\")\n",
    "ticket(80)\n",
    "        \n",
    "        \n",
    "        \n",
    "    "
   ]
  },
  {
   "cell_type": "code",
   "execution_count": null,
   "metadata": {},
   "outputs": [],
   "source": []
  }
 ],
 "metadata": {
  "kernelspec": {
   "display_name": "Python 3",
   "language": "python",
   "name": "python3"
  },
  "language_info": {
   "codemirror_mode": {
    "name": "ipython",
    "version": 3
   },
   "file_extension": ".py",
   "mimetype": "text/x-python",
   "name": "python",
   "nbconvert_exporter": "python",
   "pygments_lexer": "ipython3",
   "version": "3.7.6"
  }
 },
 "nbformat": 4,
 "nbformat_minor": 4
}
