{
 "cells": [
  {
   "cell_type": "code",
   "execution_count": null,
   "metadata": {},
   "outputs": [],
   "source": [
    "\"\"\"\n",
    "Write function bmi that calculates body mass index (bmi = weight / height ^ 2).\n",
    "\n",
    "if bmi <= 18.5 return \"Underweight\"\n",
    "\n",
    "if bmi <= 25.0 return \"Normal\"\n",
    "\n",
    "if bmi <= 30.0 return \"Overweight\"\n",
    "\n",
    "if bmi > 30 return \"Obese\"\n",
    "\"\"\"\n",
    "def bmi(weight, height):\n",
    "    #your code here\n",
    "    bmi = weight / (height ** 2)\n",
    "    \n",
    "    if bmi<=18:\n",
    "        return \"Underweight\"\n",
    "    elif bmi<=25:\n",
    "        return \"Normal\"\n",
    "    elif bmi<=30:\n",
    "        return \"Overweight\"\n",
    "    elif bmi > 30:\n",
    "        return \"Obese\"\n",
    "    \n",
    "bmi(50, 1.80)\n",
    "bmi(110, 1.80)"
   ]
  },
  {
   "cell_type": "code",
   "execution_count": null,
   "metadata": {},
   "outputs": [],
   "source": [
    "\"\"\"\n",
    "In this kata you will create a function that takes a list of non-negative \n",
    "integers and strings and returns a new list with the strings filtered out.\n",
    "Example\n",
    "filter_list([1,2,'a','b', 'c']) == [1,2]\n",
    "\"\"\"\n",
    "def filter_list(myList):\n",
    "    result=list()\n",
    "    for i in myList:\n",
    "        if type(i) ==int:\n",
    "            result.append(i)\n",
    "    return result\n",
    "filter_list([1,2,'a','b', 'c', 'd'])"
   ]
  },
  {
   "cell_type": "code",
   "execution_count": null,
   "metadata": {},
   "outputs": [],
   "source": [
    "\"\"\"\n",
    "Take 2 strings s1 and s2 including only letters from ato z. \n",
    "Return a new sorted string, the longest possible, containing distinct letters,\n",
    "\n",
    "each taken only once - coming from s1 or s2.\n",
    "Examples:\n",
    "a = \"xyaabbbccccdefww\"\n",
    "b = \"xxxxyyyyabklmopq\"\n",
    "longest(a, b) -> \"abcdefklmopqwxy\"\n",
    "\"\"\"\n",
    "def longest(s1, s2):\n",
    "    # your code\n",
    "    #for i in \n",
    "    s=s1+s2\n",
    "    ls=list(s)\n",
    "    newS=list()\n",
    "    for i in ls:\n",
    "        if i not in newS:\n",
    "            newS.append(i)\n",
    "    newS.sort()\n",
    "    newSJ=\"\".join(newS)\n",
    "    return newSJ\n",
    "     \n",
    "     \n",
    "        \n",
    "longest(\"aretheyhere\", \"yestheyarehere\")"
   ]
  },
  {
   "cell_type": "code",
   "execution_count": 20,
   "metadata": {},
   "outputs": [
    {
     "name": "stdout",
     "output_type": "stream",
     "text": [
      "811181\n"
     ]
    }
   ],
   "source": [
    "\"\"\"\n",
    "Welcome. In this kata, you are asked to square every digit of a number.\n",
    "For example, if we run 9119 through the function, 811181 will come out, because 92 is 81 and 12 is 1.\n",
    "Note: The function accepts an integer and returns an integer\n",
    "(square_digits(9119), 811181)\n",
    "\"\"\"\n",
    "def square_digits(num):\n",
    "    num=str(num)\n",
    "    num=list(num)\n",
    "    newNums=list()\n",
    "    for i in num:\n",
    "        newNums.append(str(int(i)**2))\n",
    "    result=\"\".join(newNums)\n",
    "    return int(result)\n",
    "    print(newNums)    \n",
    "print(square_digits(9119))"
   ]
  },
  {
   "cell_type": "code",
   "execution_count": 6,
   "metadata": {},
   "outputs": [],
   "source": [
    "def sq(num):\n",
    "    words = list(str(num)) # split the text\n",
    "    for word in words:  # for each word in the line:\n",
    "        print(int(word)**2, end=\"\") # print the word\n",
    "\n",
    "num = 9119\n",
    "sq(num)"
   ]
  },
  {
   "cell_type": "code",
   "execution_count": null,
   "metadata": {},
   "outputs": [],
   "source": [
    "def square_digits(num):\n",
    "    z = ''.join(str(int(i)**2) for i in str(num))\n",
    "    return int(z)"
   ]
  }
 ],
 "metadata": {
  "kernelspec": {
   "display_name": "Python 3",
   "language": "python",
   "name": "python3"
  },
  "language_info": {
   "codemirror_mode": {
    "name": "ipython",
    "version": 3
   },
   "file_extension": ".py",
   "mimetype": "text/x-python",
   "name": "python",
   "nbconvert_exporter": "python",
   "pygments_lexer": "ipython3",
   "version": "3.7.6"
  }
 },
 "nbformat": 4,
 "nbformat_minor": 4
}
