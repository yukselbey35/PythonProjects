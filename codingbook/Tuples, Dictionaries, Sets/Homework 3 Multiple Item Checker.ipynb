{
 "cells": [
  {
   "cell_type": "code",
   "execution_count": 5,
   "metadata": {},
   "outputs": [
    {
     "name": "stdout",
     "output_type": "stream",
     "text": [
      "[1, 2, 2, 3, 3, 3, 4, 4, 4, 4, 5]\n",
      "11\n",
      "{1, 2, 3, 4, 5}\n",
      "5\n",
      "False\n"
     ]
    }
   ],
   "source": [
    "\"\"\"\n",
    "Write a program that checks a list whether it contains the same item multiple times.\n",
    "If the list contains the same item multiple times, your code should write True, \n",
    "otherwise False. [1,2,3] -> False. [1,1,2,3] -> True. Hint: Use sets. \n",
    "listNumber = {1,2,2,3,3,3,4,4,4,4,5}\n",
    "num=len(listNumber)\n",
    "print(listNumber)\n",
    "\"\"\"\n",
    "listNumbers = [1,2,2,3,3,3,4,4,4,4,5]\n",
    "print(listNumbers)\n",
    "print(len(listNumbers))\n",
    "setNumbers=set(listNumbers)\n",
    "print(setNumbers)\n",
    "print(len(setNumbers))\n",
    "if len(listNumbers) == len(setNumbers):\n",
    "    print(True)\n",
    "else:\n",
    "    print(False)"
   ]
  },
  {
   "cell_type": "code",
   "execution_count": null,
   "metadata": {},
   "outputs": [],
   "source": []
  }
 ],
 "metadata": {
  "kernelspec": {
   "display_name": "Python 3",
   "language": "python",
   "name": "python3"
  },
  "language_info": {
   "codemirror_mode": {
    "name": "ipython",
    "version": 3
   },
   "file_extension": ".py",
   "mimetype": "text/x-python",
   "name": "python",
   "nbconvert_exporter": "python",
   "pygments_lexer": "ipython3",
   "version": "3.7.6"
  }
 },
 "nbformat": 4,
 "nbformat_minor": 4
}
