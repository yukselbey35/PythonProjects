{
 "cells": [
  {
   "cell_type": "code",
   "execution_count": 2,
   "metadata": {},
   "outputs": [
    {
     "name": "stdout",
     "output_type": "stream",
     "text": [
      "Enter your first name:aass\n",
      "Enter your last name:xxx\n",
      "AX\n"
     ]
    }
   ],
   "source": [
    "\"\"\"\n",
    "You will be provided with a first and last name with a single space in between.\n",
    "Your task is to abbreviate it using its first letters. \n",
    "For example, if the name is John Smith, your code should output JS.\n",
    "\"\"\"\n",
    "firstName=input(\"Enter your first name:\")\n",
    "lastName=input(\"Enter your last name:\")\n",
    "short=(firstName[0]+lastName[0])\n",
    "ups=short.upper()\n",
    "print(ups)"
   ]
  },
  {
   "cell_type": "code",
   "execution_count": 3,
   "metadata": {},
   "outputs": [
    {
     "name": "stdout",
     "output_type": "stream",
     "text": [
      "Enter your first name and  last name: roger evans\n",
      "RE\n"
     ]
    }
   ],
   "source": [
    "firstName, lastName = input(\"Enter your first name and  last name: \").split() \n",
    "short=(firstName[0]+lastName[0])\n",
    "ups=short.upper()\n",
    "print(ups)"
   ]
  },
  {
   "cell_type": "code",
   "execution_count": null,
   "metadata": {},
   "outputs": [],
   "source": []
  }
 ],
 "metadata": {
  "kernelspec": {
   "display_name": "Python 3",
   "language": "python",
   "name": "python3"
  },
  "language_info": {
   "codemirror_mode": {
    "name": "ipython",
    "version": 3
   },
   "file_extension": ".py",
   "mimetype": "text/x-python",
   "name": "python",
   "nbconvert_exporter": "python",
   "pygments_lexer": "ipython3",
   "version": "3.7.6"
  }
 },
 "nbformat": 4,
 "nbformat_minor": 4
}
