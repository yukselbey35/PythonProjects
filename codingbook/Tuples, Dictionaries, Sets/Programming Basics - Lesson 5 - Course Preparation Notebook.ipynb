{
 "cells": [
  {
   "cell_type": "code",
   "execution_count": 5,
   "metadata": {},
   "outputs": [
    {
     "data": {
      "text/plain": [
       "float"
      ]
     },
     "execution_count": 5,
     "metadata": {},
     "output_type": "execute_result"
    }
   ],
   "source": [
    "number = 5 + 12.5\n",
    "type(number)"
   ]
  },
  {
   "cell_type": "code",
   "execution_count": 6,
   "metadata": {},
   "outputs": [
    {
     "name": "stdout",
     "output_type": "stream",
     "text": [
      "<class 'int'>\n",
      "6\n"
     ]
    }
   ],
   "source": [
    "number = 5 + True\n",
    "print(type(number))\n",
    "print(number)"
   ]
  },
  {
   "cell_type": "code",
   "execution_count": 9,
   "metadata": {},
   "outputs": [
    {
     "name": "stdout",
     "output_type": "stream",
     "text": [
      "<class 'float'>\n",
      "12.5\n"
     ]
    }
   ],
   "source": [
    "number = 12.5 + False\n",
    "print(type(number))\n",
    "print(number)"
   ]
  },
  {
   "cell_type": "code",
   "execution_count": 11,
   "metadata": {},
   "outputs": [
    {
     "name": "stdout",
     "output_type": "stream",
     "text": [
      "<class 'int'>\n",
      "1\n"
     ]
    }
   ],
   "source": [
    "number = True + False\n",
    "print(type(number))\n",
    "print(number)"
   ]
  },
  {
   "cell_type": "markdown",
   "metadata": {},
   "source": [
    "Check if a given string is fully capitalized or not\n",
    "\n",
    "CODE --> True\n",
    "code --> False\n",
    "CodE --> False"
   ]
  },
  {
   "cell_type": "code",
   "execution_count": 20,
   "metadata": {},
   "outputs": [
    {
     "name": "stdout",
     "output_type": "stream",
     "text": [
      "DDD DDD\n",
      "True\n"
     ]
    }
   ],
   "source": [
    "my_string=input()\n",
    "tmp = my_string.upper()\n",
    "print(tmp == my_string)"
   ]
  },
  {
   "cell_type": "code",
   "execution_count": 19,
   "metadata": {},
   "outputs": [
    {
     "data": {
      "text/plain": [
       "True"
      ]
     },
     "execution_count": 19,
     "metadata": {},
     "output_type": "execute_result"
    }
   ],
   "source": [
    "my_string.isupper()"
   ]
  },
  {
   "cell_type": "markdown",
   "metadata": {},
   "source": [
    "Find the middle item in a given list. \n",
    "If list contains even number of items, \n",
    "any of the middle two items are accepted. \n",
    "\n",
    "Example List [11,35,43,25,54,23,57]"
   ]
  },
  {
   "cell_type": "code",
   "execution_count": 25,
   "metadata": {},
   "outputs": [
    {
     "name": "stdout",
     "output_type": "stream",
     "text": [
      "25\n"
     ]
    }
   ],
   "source": [
    "mylist = [11,35,43,25,54,23,57]\n",
    "length = len(mylist)\n",
    "length /= 2\n",
    "length = int(length)\n",
    "print(mylist[length])"
   ]
  },
  {
   "cell_type": "code",
   "execution_count": 29,
   "metadata": {},
   "outputs": [
    {
     "name": "stdout",
     "output_type": "stream",
     "text": [
      "140737236738576\n",
      "140737236738576\n",
      "140737236738576\n"
     ]
    }
   ],
   "source": [
    "number = 5\n",
    "number2 = 10\n",
    "print(id(number))\n",
    "print(id(number2-5))\n",
    "print(id(5))"
   ]
  },
  {
   "cell_type": "code",
   "execution_count": 42,
   "metadata": {},
   "outputs": [
    {
     "name": "stdout",
     "output_type": "stream",
     "text": [
      "(1, 2, 3, 4, [5])\n",
      "2160523758568\n",
      "2160523943688\n",
      "140737236738576\n",
      "(1, 2, 3, 4, [5, 6])\n",
      "2160523758568\n",
      "2160523943688\n"
     ]
    }
   ],
   "source": [
    "example_tuple = (1,2,3,4,[5])\n",
    "print(example_tuple)\n",
    "print(id(example_tuple))\n",
    "print(id(example_tuple[4]))\n",
    "print(id(example_tuple[4][0])) # Same with the earlier code block\n",
    "\n",
    "example_tuple[4].append(6)\n",
    "print(example_tuple)\n",
    "print(id(example_tuple))\n",
    "print(id(example_tuple[4]))"
   ]
  },
  {
   "cell_type": "code",
   "execution_count": null,
   "metadata": {},
   "outputs": [],
   "source": []
  },
  {
   "cell_type": "code",
   "execution_count": null,
   "metadata": {},
   "outputs": [],
   "source": []
  },
  {
   "cell_type": "code",
   "execution_count": 72,
   "metadata": {},
   "outputs": [
    {
     "data": {
      "text/plain": [
       "{'e', 'h', 'l', 'o'}"
      ]
     },
     "execution_count": 72,
     "metadata": {},
     "output_type": "execute_result"
    }
   ],
   "source": [
    "my_set = set()\n",
    "my_set2 = {1}\n",
    "my_set3 = set(\"hello\")\n",
    "my_set3"
   ]
  },
  {
   "cell_type": "code",
   "execution_count": 68,
   "metadata": {},
   "outputs": [
    {
     "name": "stdout",
     "output_type": "stream",
     "text": [
      "<class 'set'>\n",
      "<class 'set'>\n"
     ]
    }
   ],
   "source": [
    "my_set = {1,2,3,4,5}\n",
    "my_set2 = {3.0,\"Hello\",(1,2,3.0)}\n",
    "print(type(my_set))\n",
    "print(type(my_set2))"
   ]
  },
  {
   "cell_type": "code",
   "execution_count": 76,
   "metadata": {},
   "outputs": [
    {
     "name": "stdout",
     "output_type": "stream",
     "text": [
      "{'l', 'e', 'o', 'h'}\n",
      "<class 'set'>\n"
     ]
    }
   ],
   "source": [
    "my_set = set('hello')\n",
    "print(my_set)\n",
    "print(type(my_set))"
   ]
  },
  {
   "cell_type": "code",
   "execution_count": 64,
   "metadata": {},
   "outputs": [
    {
     "name": "stdout",
     "output_type": "stream",
     "text": [
      "True\n"
     ]
    }
   ],
   "source": [
    "print('l' in my_set)"
   ]
  },
  {
   "cell_type": "code",
   "execution_count": 2,
   "metadata": {},
   "outputs": [
    {
     "name": "stdout",
     "output_type": "stream",
     "text": [
      "{'h', 'o', 'e', 'l'}\n",
      "4\n"
     ]
    }
   ],
   "source": [
    "my_set = set('hello')\n",
    "print(my_set)\n",
    "print(len(my_set))"
   ]
  },
  {
   "cell_type": "code",
   "execution_count": 98,
   "metadata": {},
   "outputs": [
    {
     "name": "stdout",
     "output_type": "stream",
     "text": [
      "{'o', 'e', 'l', 'welcome', 'h'}\n",
      "{'o', 'w', 'e', 'm', 'c', 'l', 'welcome', 'h'}\n"
     ]
    }
   ],
   "source": [
    "my_set.add(\"welcome\")\n",
    "print(my_set)\n",
    "\n",
    "my_set.update(\"welcome\")\n",
    "print(my_set)"
   ]
  },
  {
   "cell_type": "code",
   "execution_count": 101,
   "metadata": {},
   "outputs": [
    {
     "name": "stdout",
     "output_type": "stream",
     "text": [
      "8\n"
     ]
    }
   ],
   "source": [
    "print(len(my_set))"
   ]
  },
  {
   "cell_type": "code",
   "execution_count": 95,
   "metadata": {},
   "outputs": [
    {
     "name": "stdout",
     "output_type": "stream",
     "text": [
      "{'o', 'w', 'e', 'm', 'c', 'l', 'h'}\n",
      "{'o', 'e', 'm', 'c', 'l', 'h'}\n",
      "{'e', 'm', 'c', 'l', 'h'}\n",
      "set()\n"
     ]
    }
   ],
   "source": [
    "my_set.discard(\"welcome\")\n",
    "print(my_set)\n",
    "\n",
    "my_set.remove(\"w\")\n",
    "print(my_set)\n",
    "\n",
    "my_set.pop()\n",
    "print(my_set)\n",
    "\n",
    "my_set.clear()\n",
    "print(my_set)"
   ]
  },
  {
   "cell_type": "code",
   "execution_count": 1,
   "metadata": {
    "scrolled": true
   },
   "outputs": [
    {
     "name": "stdout",
     "output_type": "stream",
     "text": [
      "{1, 2, 3, 4, 5, 6, 7}\n",
      "{1, 2, 3, 4, 5, 6, 7}\n",
      "{1, 2, 3, 4, 5, 6, 7}\n"
     ]
    }
   ],
   "source": [
    "A = {1,2,3,4,5}\n",
    "B = {3,4,5,6,7}\n",
    "\n",
    "print(A | B)\n",
    "print(A.union(B))\n",
    "print(B.union(A))"
   ]
  },
  {
   "cell_type": "code",
   "execution_count": 104,
   "metadata": {},
   "outputs": [
    {
     "name": "stdout",
     "output_type": "stream",
     "text": [
      "{3, 4, 5}\n",
      "{3, 4, 5}\n",
      "{3, 4, 5}\n"
     ]
    }
   ],
   "source": [
    "A = {1,2,3,4,5}\n",
    "B = {3,4,5,6,7}\n",
    "\n",
    "print(A & B)\n",
    "print(A.intersection(B))\n",
    "print(B.intersection(A))"
   ]
  },
  {
   "cell_type": "code",
   "execution_count": 106,
   "metadata": {},
   "outputs": [
    {
     "name": "stdout",
     "output_type": "stream",
     "text": [
      "{1, 2}\n",
      "{1, 2}\n",
      "{6, 7}\n",
      "{6, 7}\n"
     ]
    }
   ],
   "source": [
    "A = {1,2,3,4,5}\n",
    "B = {3,4,5,6,7}\n",
    "\n",
    "print(A - B)\n",
    "print(A.difference(B))\n",
    "print(B - A)\n",
    "print(B.difference(A))"
   ]
  },
  {
   "cell_type": "code",
   "execution_count": 108,
   "metadata": {},
   "outputs": [
    {
     "name": "stdout",
     "output_type": "stream",
     "text": [
      "{1, 2, 6, 7}\n",
      "{1, 2, 6, 7}\n",
      "{1, 2, 6, 7}\n"
     ]
    }
   ],
   "source": [
    "A = {1,2,3,4,5}\n",
    "B = {3,4,5,6,7}\n",
    "\n",
    "print(A ^ B)\n",
    "print(A.symmetric_difference(B))\n",
    "print(B.symmetric_difference(A))"
   ]
  },
  {
   "cell_type": "code",
   "execution_count": null,
   "metadata": {},
   "outputs": [],
   "source": []
  },
  {
   "cell_type": "code",
   "execution_count": null,
   "metadata": {},
   "outputs": [],
   "source": []
  }
 ],
 "metadata": {
  "kernelspec": {
   "display_name": "Python 3",
   "language": "python",
   "name": "python3"
  },
  "language_info": {
   "codemirror_mode": {
    "name": "ipython",
    "version": 3
   },
   "file_extension": ".py",
   "mimetype": "text/x-python",
   "name": "python",
   "nbconvert_exporter": "python",
   "pygments_lexer": "ipython3",
   "version": "3.7.6"
  }
 },
 "nbformat": 4,
 "nbformat_minor": 4
}
