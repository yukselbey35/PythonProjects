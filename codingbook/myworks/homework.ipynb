{
 "cells": [
  {
   "cell_type": "markdown",
   "metadata": {},
   "source": [
    "Since you are closed up on your house for long days, you start to work out. At the beginning, you force yourself, but it ends up with you doing nothing. Then you start again. This time you plan your progress, and slowly increase your workout hours. The list given below named pushups is your first week results. Do the following tasks in order to analyze your data:\n",
    "\n",
    "- Get input for the next day\n",
    "- Add it to the list\n",
    "- Find the day with most pushups\n",
    "- Find the day with least pushups\n",
    "- Find the average daily pushups\n",
    "- Pop last two days\n",
    "- Clear the list"
   ]
  },
  {
   "cell_type": "code",
   "execution_count": 1,
   "metadata": {},
   "outputs": [],
   "source": [
    "pushups = [30, 5, 0, 25, 50, 100]"
   ]
  },
  {
   "cell_type": "code",
   "execution_count": 2,
   "metadata": {},
   "outputs": [
    {
     "name": "stdout",
     "output_type": "stream",
     "text": [
      "Enter the next day pushup: 65\n"
     ]
    }
   ],
   "source": [
    "#Get input for the next day\n",
    "\n",
    "nextDay=int(input(\"Enter the next day pushup: \"))\n"
   ]
  },
  {
   "cell_type": "code",
   "execution_count": 5,
   "metadata": {},
   "outputs": [
    {
     "name": "stdout",
     "output_type": "stream",
     "text": [
      "[30, 5, 0, 25, 50, 100, 65, 65]\n"
     ]
    }
   ],
   "source": [
    "#Add it to the list\n",
    "pushups.append(nextDay)\n",
    "print(pushups)"
   ]
  },
  {
   "cell_type": "code",
   "execution_count": 6,
   "metadata": {},
   "outputs": [
    {
     "name": "stdout",
     "output_type": "stream",
     "text": [
      "My maximum pushup is:100\n"
     ]
    }
   ],
   "source": [
    "#Find the day with most pushups\n",
    "maxPushUp=max(pushups)\n",
    "print(f\"My maximum pushup is:{maxPushUp}\" )\n"
   ]
  },
  {
   "cell_type": "code",
   "execution_count": 7,
   "metadata": {},
   "outputs": [
    {
     "name": "stdout",
     "output_type": "stream",
     "text": [
      "My minimum push up is:0\n"
     ]
    }
   ],
   "source": [
    "#Find the day with least pushups\n",
    "leastPushUp=min(pushups)\n",
    "print (f\"My minimum push up is:{leastPushUp}\")"
   ]
  },
  {
   "cell_type": "code",
   "execution_count": 8,
   "metadata": {},
   "outputs": [
    {
     "name": "stdout",
     "output_type": "stream",
     "text": [
      "The average daily pushup is:42.5\n"
     ]
    }
   ],
   "source": [
    "#Find the average daily pushups\n",
    "totalDay=len(pushups)\n",
    "sumPushUp=sum(pushups)\n",
    "averagePushUps=(sumPushUp/totalDay)\n",
    "print(f\"The average daily pushup is:{averagePushUps}\")"
   ]
  },
  {
   "cell_type": "code",
   "execution_count": 9,
   "metadata": {},
   "outputs": [
    {
     "name": "stdout",
     "output_type": "stream",
     "text": [
      "[30, 5, 0, 25, 50, 65]\n"
     ]
    }
   ],
   "source": [
    "#Pop last two days\n",
    "pushups.pop(-1)\n",
    "pushups.pop(-2)\n",
    "print(pushups)"
   ]
  },
  {
   "cell_type": "code",
   "execution_count": 11,
   "metadata": {},
   "outputs": [
    {
     "name": "stdout",
     "output_type": "stream",
     "text": [
      "[]\n"
     ]
    }
   ],
   "source": [
    "\n",
    "#Clear the list\n",
    "pushups.clear()\n",
    "print(pushups)"
   ]
  },
  {
   "cell_type": "code",
   "execution_count": null,
   "metadata": {},
   "outputs": [],
   "source": []
  }
 ],
 "metadata": {
  "kernelspec": {
   "display_name": "Python 3",
   "language": "python",
   "name": "python3"
  },
  "language_info": {
   "codemirror_mode": {
    "name": "ipython",
    "version": 3
   },
   "file_extension": ".py",
   "mimetype": "text/x-python",
   "name": "python",
   "nbconvert_exporter": "python",
   "pygments_lexer": "ipython3",
   "version": "3.7.6"
  }
 },
 "nbformat": 4,
 "nbformat_minor": 4
}
