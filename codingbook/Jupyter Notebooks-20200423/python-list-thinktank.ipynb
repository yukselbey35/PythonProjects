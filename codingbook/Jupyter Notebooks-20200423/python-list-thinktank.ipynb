{
 "cells": [
  {
   "cell_type": "markdown",
   "metadata": {},
   "source": [
    "Strings are list of characters\n",
    "“Hello” => ['h', 'e'. 'l', 'l'. 'o']"
   ]
  },
  {
   "cell_type": "code",
   "execution_count": 4,
   "metadata": {},
   "outputs": [
    {
     "name": "stdout",
     "output_type": "stream",
     "text": [
      "1\n",
      "2\n"
     ]
    }
   ],
   "source": [
    "text = 'Hello'\n",
    "#count of character in a string\n",
    "countOfH = text.count('H') \n",
    "print(countOfH)\n",
    "\n",
    "countOfl = text.count('l') \n",
    "print(countOfl)"
   ]
  },
  {
   "cell_type": "markdown",
   "metadata": {},
   "source": [
    "Let's think of this interview question"
   ]
  },
  {
   "cell_type": "code",
   "execution_count": null,
   "metadata": {},
   "outputs": [],
   "source": [
    "Nonrepeating Character\n",
    "Have the function NonrepeatingCharacter(str) take the str parameter being passed, \n",
    "which will contain only alphabetic characters and spaces, and return the first \n",
    "non-repeating character. \n",
    "\n",
    "For example: if str is \"agettkgaeee\" then your program \n",
    "should return k. The string will always contain at least one character and \n",
    "there will always be at least one non-repeating character.\n",
    "\n",
    "Examples\n",
    "Input: \"abcdef\"\n",
    "Output: a\n",
    "Input: \"hello world hi hey\"\n",
    "Output: w"
   ]
  }
 ],
 "metadata": {
  "kernelspec": {
   "display_name": "Python 3",
   "language": "python",
   "name": "python3"
  },
  "language_info": {
   "codemirror_mode": {
    "name": "ipython",
    "version": 3
   },
   "file_extension": ".py",
   "mimetype": "text/x-python",
   "name": "python",
   "nbconvert_exporter": "python",
   "pygments_lexer": "ipython3",
   "version": "3.7.6"
  }
 },
 "nbformat": 4,
 "nbformat_minor": 4
}
