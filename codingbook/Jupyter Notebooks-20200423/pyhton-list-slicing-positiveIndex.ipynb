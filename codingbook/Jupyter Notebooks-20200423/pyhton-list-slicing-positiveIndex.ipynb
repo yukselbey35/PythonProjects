{
 "cells": [
  {
   "cell_type": "markdown",
   "metadata": {},
   "source": [
    "Slicing with positive indexing"
   ]
  },
  {
   "cell_type": "code",
   "execution_count": 2,
   "metadata": {},
   "outputs": [
    {
     "name": "stdout",
     "output_type": "stream",
     "text": [
      "['heart', 'brain', 'lungs', 'stomach']\n"
     ]
    }
   ],
   "source": [
    "organs = ['heart', 'brain', 'lungs', 'stomach']\n",
    "print(organs)"
   ]
  },
  {
   "cell_type": "markdown",
   "metadata": {},
   "source": [
    "list    ['heart', 'brain', 'lungs', 'stomach']\n",
    "index       0        1        2        3"
   ]
  },
  {
   "cell_type": "code",
   "execution_count": 3,
   "metadata": {},
   "outputs": [
    {
     "name": "stdout",
     "output_type": "stream",
     "text": [
      "['heart', 'brain']\n"
     ]
    }
   ],
   "source": [
    "anOrgan = organs[0:2]\n",
    "print(anOrgan)"
   ]
  },
  {
   "cell_type": "code",
   "execution_count": 4,
   "metadata": {},
   "outputs": [
    {
     "name": "stdout",
     "output_type": "stream",
     "text": [
      "['brain', 'lungs']\n"
     ]
    }
   ],
   "source": [
    "anOrgan = organs[1:3]\n",
    "print(anOrgan)"
   ]
  },
  {
   "cell_type": "code",
   "execution_count": 5,
   "metadata": {},
   "outputs": [
    {
     "name": "stdout",
     "output_type": "stream",
     "text": [
      "['brain', 'lungs', 'stomach']\n"
     ]
    }
   ],
   "source": [
    "anOrgan = organs[1:]\n",
    "print(anOrgan)"
   ]
  },
  {
   "cell_type": "code",
   "execution_count": 6,
   "metadata": {},
   "outputs": [
    {
     "name": "stdout",
     "output_type": "stream",
     "text": [
      "['heart', 'brain']\n"
     ]
    }
   ],
   "source": [
    "anOrgan = organs[:2]\n",
    "print(anOrgan)"
   ]
  },
  {
   "cell_type": "code",
   "execution_count": 12,
   "metadata": {},
   "outputs": [],
   "source": [
    "anOrgan = organs[:]\n",
    "print(anOrgan)"
   ]
  },
  {
   "cell_type": "markdown",
   "metadata": {},
   "source": [
    "?"
   ]
  }
 ],
 "metadata": {
  "kernelspec": {
   "display_name": "Python 3",
   "language": "python",
   "name": "python3"
  },
  "language_info": {
   "codemirror_mode": {
    "name": "ipython",
    "version": 3
   },
   "file_extension": ".py",
   "mimetype": "text/x-python",
   "name": "python",
   "nbconvert_exporter": "python",
   "pygments_lexer": "ipython3",
   "version": "3.7.6"
  }
 },
 "nbformat": 4,
 "nbformat_minor": 4
}
