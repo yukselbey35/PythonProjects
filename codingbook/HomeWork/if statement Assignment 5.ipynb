{
 "cells": [
  {
   "cell_type": "code",
   "execution_count": 1,
   "metadata": {},
   "outputs": [
    {
     "name": "stdout",
     "output_type": "stream",
     "text": [
      "Enter firts number:26\n",
      "<class 'int'>\n",
      "Enter second number:13\n",
      "<class 'int'>\n",
      "None\n"
     ]
    }
   ],
   "source": [
    "\"\"\"\n",
    "Write a Python program that will return true \n",
    "if the two given integer values are equal or \n",
    "their sum or difference is 10\n",
    "\"\"\"\n",
    "number1=int(input(\"Enter firts number:\"))\n",
    "t_number =type(number1)\n",
    "print(t_number)\n",
    "\n",
    "number2=int(input(\"Enter second number:\"))\n",
    "t_number2 =type(number2)\n",
    "print(t_number2)\n",
    "\n",
    "if number1==number2 :\n",
    "    print (\"Numbers are equals\")\n",
    "elif (number1 + number2) == 10:\n",
    "    print(\"total is 10\")\n",
    "elif (number1 - number2) == 10:\n",
    "    print(\"Difference is 10\")\n",
    "else:\n",
    "    print(\"None\")\n"
   ]
  },
  {
   "cell_type": "code",
   "execution_count": 9,
   "metadata": {},
   "outputs": [
    {
     "ename": "SyntaxError",
     "evalue": "unexpected EOF while parsing (<ipython-input-9-4a33db052653>, line 3)",
     "output_type": "error",
     "traceback": [
      "\u001b[1;36m  File \u001b[1;32m\"<ipython-input-9-4a33db052653>\"\u001b[1;36m, line \u001b[1;32m3\u001b[0m\n\u001b[1;33m    if 5 > 2:\u001b[0m\n\u001b[1;37m             ^\u001b[0m\n\u001b[1;31mSyntaxError\u001b[0m\u001b[1;31m:\u001b[0m unexpected EOF while parsing\n"
     ]
    }
   ],
   "source": [
    "print(\"True\")\n",
    "print(\"1\")\n",
    "if 5 > 2:"
   ]
  },
  {
   "cell_type": "code",
   "execution_count": null,
   "metadata": {},
   "outputs": [],
   "source": []
  },
  {
   "cell_type": "code",
   "execution_count": null,
   "metadata": {},
   "outputs": [],
   "source": []
  },
  {
   "cell_type": "code",
   "execution_count": null,
   "metadata": {},
   "outputs": [],
   "source": []
  }
 ],
 "metadata": {
  "kernelspec": {
   "display_name": "Python 3",
   "language": "python",
   "name": "python3"
  },
  "language_info": {
   "codemirror_mode": {
    "name": "ipython",
    "version": 3
   },
   "file_extension": ".py",
   "mimetype": "text/x-python",
   "name": "python",
   "nbconvert_exporter": "python",
   "pygments_lexer": "ipython3",
   "version": "3.7.6"
  }
 },
 "nbformat": 4,
 "nbformat_minor": 4
}
