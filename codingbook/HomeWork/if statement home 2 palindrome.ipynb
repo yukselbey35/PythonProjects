{
 "cells": [
  {
   "cell_type": "code",
   "execution_count": 3,
   "metadata": {},
   "outputs": [
    {
     "name": "stdout",
     "output_type": "stream",
     "text": [
      "Enter a word: home\n",
      "emoh\n",
      " The home is not a palindrome\n"
     ]
    }
   ],
   "source": [
    "\"\"\"\n",
    "Ask the user for a string and print out whether\n",
    "this string is a palindrome or not. \n",
    "(A palindrome is a string that reads \n",
    "the same forwards and backwards.)\n",
    "\"\"\"\n",
    "word=input(\"Enter a word: \")\n",
    "pword=word[::-1]\n",
    "print(pword)\n",
    "if word == pword:\n",
    "    print(f\" The {word} is a palindrome\")\n",
    "else:\n",
    "    print(f\" The {word} is not a palindrome\")"
   ]
  },
  {
   "cell_type": "code",
   "execution_count": null,
   "metadata": {},
   "outputs": [],
   "source": []
  }
 ],
 "metadata": {
  "kernelspec": {
   "display_name": "Python 3",
   "language": "python",
   "name": "python3"
  },
  "language_info": {
   "codemirror_mode": {
    "name": "ipython",
    "version": 3
   },
   "file_extension": ".py",
   "mimetype": "text/x-python",
   "name": "python",
   "nbconvert_exporter": "python",
   "pygments_lexer": "ipython3",
   "version": "3.7.6"
  }
 },
 "nbformat": 4,
 "nbformat_minor": 4
}
