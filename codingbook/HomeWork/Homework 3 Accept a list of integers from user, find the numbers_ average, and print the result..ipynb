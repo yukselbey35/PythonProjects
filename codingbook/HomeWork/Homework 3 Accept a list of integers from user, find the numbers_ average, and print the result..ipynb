{
 "cells": [
  {
   "cell_type": "code",
   "execution_count": 5,
   "metadata": {},
   "outputs": [
    {
     "name": "stdout",
     "output_type": "stream",
     "text": [
      "Enter number of elements : 10\n",
      "[1, 2, 3, 4, 5, 6, 7, 8, 9]\n",
      "5.0\n"
     ]
    }
   ],
   "source": [
    "#Homework 3 Accept a list of integers from user, find the numbers' average, and print the result.\n",
    "userList=list()\n",
    "result=0\n",
    "listrange=int(input(\"Enter number of elements : \")) \n",
    "for i in range(1, listrange):\n",
    "    userList.append(i)\n",
    "    result+=i\n",
    "    average=result/len(userList)\n",
    "print(userList)\n",
    "print(average)"
   ]
  },
  {
   "cell_type": "code",
   "execution_count": null,
   "metadata": {},
   "outputs": [],
   "source": []
  },
  {
   "cell_type": "code",
   "execution_count": null,
   "metadata": {},
   "outputs": [],
   "source": []
  }
 ],
 "metadata": {
  "kernelspec": {
   "display_name": "Python 3",
   "language": "python",
   "name": "python3"
  },
  "language_info": {
   "codemirror_mode": {
    "name": "ipython",
    "version": 3
   },
   "file_extension": ".py",
   "mimetype": "text/x-python",
   "name": "python",
   "nbconvert_exporter": "python",
   "pygments_lexer": "ipython3",
   "version": "3.7.6"
  }
 },
 "nbformat": 4,
 "nbformat_minor": 4
}
