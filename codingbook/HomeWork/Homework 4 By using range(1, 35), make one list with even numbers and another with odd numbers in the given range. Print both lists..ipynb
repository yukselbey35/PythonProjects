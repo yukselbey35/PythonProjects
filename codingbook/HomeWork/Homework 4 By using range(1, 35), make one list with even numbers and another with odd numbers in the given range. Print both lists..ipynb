{
 "cells": [
  {
   "cell_type": "code",
   "execution_count": 6,
   "metadata": {},
   "outputs": [
    {
     "name": "stdout",
     "output_type": "stream",
     "text": [
      "[2, 4, 6, 8, 10, 12, 14, 16, 18, 20, 22, 24, 26, 28, 30, 32, 34]\n",
      "[1, 3, 5, 7, 9, 11, 13, 15, 17, 19, 21, 23, 25, 27, 29, 31, 33]\n"
     ]
    }
   ],
   "source": [
    "#By using range(1, 35), make one list with even numbers and another with odd numbers in the given range. Print both lists.\n",
    "list_even=list()\n",
    "list_odd=list()\n",
    "for i in range(1, 35):\n",
    "    if i%2==0:\n",
    "        list_even.append(i)\n",
    "    #elif i%2==1:\n",
    "        #list_odd.append(i)\n",
    "    else:\n",
    "        list_odd.append(i)\n",
    "print(list_even)\n",
    "print(list_odd)\n",
    "        "
   ]
  },
  {
   "cell_type": "code",
   "execution_count": null,
   "metadata": {},
   "outputs": [],
   "source": []
  }
 ],
 "metadata": {
  "kernelspec": {
   "display_name": "Python 3",
   "language": "python",
   "name": "python3"
  },
  "language_info": {
   "codemirror_mode": {
    "name": "ipython",
    "version": 3
   },
   "file_extension": ".py",
   "mimetype": "text/x-python",
   "name": "python",
   "nbconvert_exporter": "python",
   "pygments_lexer": "ipython3",
   "version": "3.7.6"
  }
 },
 "nbformat": 4,
 "nbformat_minor": 4
}
