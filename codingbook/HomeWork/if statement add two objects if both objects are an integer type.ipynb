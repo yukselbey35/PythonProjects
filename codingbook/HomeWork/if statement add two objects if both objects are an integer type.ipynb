{
 "cells": [
  {
   "cell_type": "code",
   "execution_count": 6,
   "metadata": {},
   "outputs": [
    {
     "name": "stdout",
     "output_type": "stream",
     "text": [
      "Enter a number5\n",
      "<class 'int'>\n",
      "Enter a number1\n",
      "<class 'int'>\n",
      "6\n"
     ]
    }
   ],
   "source": [
    "\"\"\"\n",
    "Write a Python program to add two objects if both objects are an integer type\n",
    "\"\"\"\n",
    "number1=int(input(\"Enter a number\"))\n",
    "t_number =type(number1)\n",
    "print(t_number)\n",
    "\n",
    "number2=int(input(\"Enter a number\"))\n",
    "t_number2 =type(number2)\n",
    "print(t_number2)\n",
    "\n",
    "if (number1, int) and (number2, int) :\n",
    "    print (number1+number2)\n",
    "    \n"
   ]
  },
  {
   "cell_type": "code",
   "execution_count": null,
   "metadata": {},
   "outputs": [],
   "source": []
  }
 ],
 "metadata": {
  "kernelspec": {
   "display_name": "Python 3",
   "language": "python",
   "name": "python3"
  },
  "language_info": {
   "codemirror_mode": {
    "name": "ipython",
    "version": 3
   },
   "file_extension": ".py",
   "mimetype": "text/x-python",
   "name": "python",
   "nbconvert_exporter": "python",
   "pygments_lexer": "ipython3",
   "version": "3.7.6"
  }
 },
 "nbformat": 4,
 "nbformat_minor": 4
}
