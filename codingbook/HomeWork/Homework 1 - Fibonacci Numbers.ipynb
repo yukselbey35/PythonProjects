{
 "cells": [
  {
   "cell_type": "code",
   "execution_count": null,
   "metadata": {},
   "outputs": [],
   "source": [
    "\"\"\"\n",
    "Write a program that finds the closest Fibonacci number for any given number n. \n",
    "\n",
    "Limits:\n",
    "\n",
    "0 <n <= 1000. \n",
    "\n",
    "Fibonacci numbers: 0, 1, 1, 2, 3, 5, 8, 13, 21, 34, 55, 89, 144, 233, 377, 610, 987, 1597\n",
    "\n",
    "F(n) = F(n-1) + F(n-2)\n",
    "\"\"\"\n",
    "guessNumber=int(input(\"Enter a number:\"))\n",
    "fi =(fi-1) + (fi-2)\n",
    "while guessNumber != userNumber:\n",
    "    if guessNumber < userNumber:\n",
    "        print(\"Go down\")\n",
    "        userNumber =int(input(\"Guess a number:\"))\n",
    "    elif guessNumber > userNumber:\n",
    "        print(\"Go up\")\n",
    "        userNumber =int(input(\"Guess a number:\"))\n",
    "    else:\n",
    "        \n",
    "        break\n",
    "print(f\"{userNumber} is the number:\")"
   ]
  },
  {
   "cell_type": "code",
   "execution_count": null,
   "metadata": {},
   "outputs": [],
   "source": [
    "\"\"\"\n",
    "Write a program that finds the closest Fibonacci number for any given number n. \n",
    "\n",
    "Limits:\n",
    "\n",
    "0 <n <= 1000. \n",
    "\n",
    "Fibonacci numbers: 0, 1, 1, 2, 3, 5, 8, 13, 21, 34, 55, 89, 144, 233, 377, 610, 987, 1597\n",
    "\n",
    "F(n) = F(n-1) + F(n-2)\n",
    "\"\"\"\n",
    "small=1\n",
    "big=1\n",
    "nextone=int(input(\"Enter a number: \")) #0<n<100\n",
    "while True:\n",
    "    nextone = small + big\n",
    "    small = big\n",
    "    big = nextone\n",
    "    if big > nextone:\n",
    "        break\n",
    "if big-nextone > nextone-small:\n",
    "    print(f\"{small} is closest Fib to {nextone}\")\n",
    "else:\n",
    "    print(f\"{big} is closest Fib to {nextone}\")"
   ]
  },
  {
   "cell_type": "code",
   "execution_count": null,
   "metadata": {},
   "outputs": [],
   "source": []
  },
  {
   "cell_type": "code",
   "execution_count": null,
   "metadata": {},
   "outputs": [],
   "source": []
  },
  {
   "cell_type": "code",
   "execution_count": null,
   "metadata": {},
   "outputs": [],
   "source": []
  }
 ],
 "metadata": {
  "kernelspec": {
   "display_name": "Python 3",
   "language": "python",
   "name": "python3"
  },
  "language_info": {
   "codemirror_mode": {
    "name": "ipython",
    "version": 3
   },
   "file_extension": ".py",
   "mimetype": "text/x-python",
   "name": "python",
   "nbconvert_exporter": "python",
   "pygments_lexer": "ipython3",
   "version": "3.7.6"
  }
 },
 "nbformat": 4,
 "nbformat_minor": 4
}
