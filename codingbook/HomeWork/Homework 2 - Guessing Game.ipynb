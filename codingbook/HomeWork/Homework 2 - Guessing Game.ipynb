{
 "cells": [
  {
   "cell_type": "code",
   "execution_count": 1,
   "metadata": {},
   "outputs": [
    {
     "name": "stdout",
     "output_type": "stream",
     "text": [
      "Enter a secret number:7\n",
      "Guess a number:10\n",
      "Go down\n",
      "Guess a number:5\n",
      "Go up\n",
      "Guess a number:7\n",
      "7 is the number:\n"
     ]
    }
   ],
   "source": [
    "\"\"\"\n",
    "Write a guessing game that works like this: \n",
    "Your code will be given a number that is between 0 and 100. \n",
    "In every turn, you will guess a number. \n",
    "If your guess is lower than the answer, your program will say “up”, if not, \n",
    "it will say “down”. This way after a couple of turns your program will find the answer.\n",
    "\"\"\"\n",
    "guessNumber=int(input(\"Enter a secret number:\"))\n",
    "userNumber =int(input(\"Guess a number:\"))\n",
    "while guessNumber != userNumber:\n",
    "    if guessNumber < userNumber:\n",
    "        print(\"Go down\")\n",
    "        userNumber =int(input(\"Guess a number:\"))\n",
    "    elif guessNumber > userNumber:\n",
    "        print(\"Go up\")\n",
    "        userNumber =int(input(\"Guess a number:\"))\n",
    "    else:\n",
    "        \n",
    "        break\n",
    "print(f\"{userNumber} is the number:\")"
   ]
  },
  {
   "cell_type": "code",
   "execution_count": null,
   "metadata": {},
   "outputs": [],
   "source": []
  },
  {
   "cell_type": "code",
   "execution_count": null,
   "metadata": {},
   "outputs": [],
   "source": []
  }
 ],
 "metadata": {
  "kernelspec": {
   "display_name": "Python 3",
   "language": "python",
   "name": "python3"
  },
  "language_info": {
   "codemirror_mode": {
    "name": "ipython",
    "version": 3
   },
   "file_extension": ".py",
   "mimetype": "text/x-python",
   "name": "python",
   "nbconvert_exporter": "python",
   "pygments_lexer": "ipython3",
   "version": "3.7.6"
  }
 },
 "nbformat": 4,
 "nbformat_minor": 4
}
