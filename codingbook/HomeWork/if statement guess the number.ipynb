{
 "cells": [
  {
   "cell_type": "code",
   "execution_count": 4,
   "metadata": {},
   "outputs": [
    {
     "name": "stdout",
     "output_type": "stream",
     "text": [
      "Enter the secret number7\n",
      "You found it\n"
     ]
    }
   ],
   "source": [
    "\"\"\"\n",
    "Assign a number to a variable. \n",
    "Ask the user to guess the number,\n",
    "then tell them whether they guessed too low,\n",
    "too high, or exactly right. Ask only once.\n",
    "\"\"\"\n",
    "s_number=7\n",
    "number=int(input(\"Enter the secret number\"))\n",
    "if s_number < number:\n",
    "    print(f\"{number} is too high\")\n",
    "elif s_number > number:\n",
    "    print(f\"{number} is too low\")\n",
    "else:\n",
    "    print(\"You found it\")"
   ]
  },
  {
   "cell_type": "code",
   "execution_count": null,
   "metadata": {},
   "outputs": [],
   "source": []
  }
 ],
 "metadata": {
  "kernelspec": {
   "display_name": "Python 3",
   "language": "python",
   "name": "python3"
  },
  "language_info": {
   "codemirror_mode": {
    "name": "ipython",
    "version": 3
   },
   "file_extension": ".py",
   "mimetype": "text/x-python",
   "name": "python",
   "nbconvert_exporter": "python",
   "pygments_lexer": "ipython3",
   "version": "3.7.6"
  }
 },
 "nbformat": 4,
 "nbformat_minor": 4
}
