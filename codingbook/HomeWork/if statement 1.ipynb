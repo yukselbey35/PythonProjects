{
 "cells": [
  {
   "cell_type": "code",
   "execution_count": 2,
   "metadata": {},
   "outputs": [
    {
     "name": "stdout",
     "output_type": "stream",
     "text": [
      "Enter a number4\n",
      "Even\n"
     ]
    }
   ],
   "source": [
    "\"\"\"\n",
    "Ask the user for a number. Depending on whether the number is even or odd, print out an appropriate message to the user.\n",
    "\n",
    "Hint: how does an even / odd number react differently when divided by 2?\n",
    "\n",
    "Extras:\n",
    "\n",
    "If the number is a multiple of 4, print out a different message.\n",
    "Ask the user for two numbers: one number to check (call it num) \n",
    "and one number to divide by (check). If check divides evenly into num, \n",
    "tell that to the user. If not, print a different appropriate message.\n",
    "\"\"\"\n",
    "number=int(input(\"Enter a number\"))\n",
    "if number%2 ==0:\n",
    "    print(\"Even\")\n",
    "else:\n",
    "    print(\"Odd\")"
   ]
  },
  {
   "cell_type": "code",
   "execution_count": 2,
   "metadata": {},
   "outputs": [
    {
     "name": "stdout",
     "output_type": "stream",
     "text": [
      "Enter a number26\n",
      "Even\n"
     ]
    }
   ],
   "source": [
    "\"\"\"\n",
    "Extras:\n",
    "\n",
    "If the number is a multiple of 4, print out a different message.\n",
    "Ask the user for two numbers: one number to check (call it num) \n",
    "and one number to divide by (check). If check divides evenly into num, \n",
    "tell that to the user. If not, print a different appropriate message.\n",
    "\"\"\"\n",
    "number=int(input(\"Enter a number: \"))\n",
    "if number%2 ==0:\n",
    "    if (number%4) ==0:\n",
    "        print(\"the number is a multiple of 4\")\n",
    "        print(\"Even\")\n",
    "    else:\n",
    "        print(\"Even\")\n",
    "    \n",
    "else:\n",
    "    print(\"Odd\")"
   ]
  },
  {
   "cell_type": "code",
   "execution_count": null,
   "metadata": {},
   "outputs": [],
   "source": []
  }
 ],
 "metadata": {
  "kernelspec": {
   "display_name": "Python 3",
   "language": "python",
   "name": "python3"
  },
  "language_info": {
   "codemirror_mode": {
    "name": "ipython",
    "version": 3
   },
   "file_extension": ".py",
   "mimetype": "text/x-python",
   "name": "python",
   "nbconvert_exporter": "python",
   "pygments_lexer": "ipython3",
   "version": "3.7.6"
  }
 },
 "nbformat": 4,
 "nbformat_minor": 4
}
