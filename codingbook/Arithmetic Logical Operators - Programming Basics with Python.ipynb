{
 "cells": [
  {
   "cell_type": "code",
   "execution_count": null,
   "metadata": {},
   "outputs": [],
   "source": [
    "\"\"\"\n",
    "The cockroach is one of the fastest insects. Write a function which takes its \n",
    "speed in km per hour and returns it in cm per second, rounded down to the integer (= floored).\n",
    "\n",
    "For example:\n",
    "\n",
    "cockroach_speed(1.08) == 30\n",
    "\"\"\"\n",
    "def cockroach_speed(s):\n",
    "    # Good Luck!\n",
    "    length_cm=1000*100\n",
    "    time_sec=3600\n",
    "    res=s*(length_cm / time_sec)\n",
    "    result=int(res)\n",
    "    return result\n",
    "cockroach_speed(1.08) \n",
    "(cockroach_speed(1.09),30)"
   ]
  },
  {
   "cell_type": "code",
   "execution_count": null,
   "metadata": {},
   "outputs": [],
   "source": [
    "\"\"\"\n",
    "Clock shows 'h' hours, 'm' minutes and 's' seconds after midnight.\n",
    "\n",
    "Your task is to make 'Past' function which returns time converted to milliseconds.\n",
    "\n",
    "Example:\n",
    "past(0, 1, 1) == 61000\n",
    "\"\"\"\n",
    "def past(h, m, s):\n",
    "    # Good Luck!\n",
    "    mh=h*3600*1000\n",
    "    mm=m*60*1000\n",
    "    ms=s*1000\n",
    "    result=mh+mm+ms\n",
    "    return result\n",
    "past(0, 1, 1)"
   ]
  },
  {
   "cell_type": "code",
   "execution_count": null,
   "metadata": {},
   "outputs": [],
   "source": [
    "\"\"\"\n",
    "Create a function that checks if a number n is divisible by two numbers x AND y. All inputs are positive, non-zero digits.\n",
    "Test.assert_equals(is_divisible(3,3,4),False)\n",
    "Test.assert_equals(is_divisible(12,3,4),True)\n",
    "Test.assert_equals(is_divisible(8,3,4),False)\n",
    "Test.assert_equals(is_divisible(48,3,4),True)\n",
    "\"\"\"\n",
    "def is_divisible(n,x,y):\n",
    "    #your code here\n",
    "    if (n%x==0 and n%y ==0):\n",
    "        return True\n",
    "    else:\n",
    "        return False\n",
    "print(is_divisible(12,3,4))"
   ]
  },
  {
   "cell_type": "code",
   "execution_count": null,
   "metadata": {},
   "outputs": [],
   "source": [
    "\"\"\"\n",
    "Very simple, given a number, find its opposite.\n",
    "\n",
    "Examples:\n",
    "\n",
    "1: -1\n",
    "14: -14\n",
    "-34: 34\n",
    "\"\"\"\n",
    "def opposite(number):\n",
    "    result=number*-1\n",
    "    return result\n",
    "  # your solution here\n",
    "    "
   ]
  },
  {
   "cell_type": "code",
   "execution_count": null,
   "metadata": {},
   "outputs": [],
   "source": [
    "\"\"\"\n",
    "Bob needs a fast way to calculate the volume of a cuboid with three values: \n",
    "length, width and the height of the cuboid. Write a function to help Bob with this calculation.\n",
    "Test.assert_equals(getVolumeOfCubiod(6.3, 2, 5), 63)\n",
    "\"\"\"\n",
    "def getVolumeOfCubiod(length, width, height):\n",
    "    # Code goes here...\n",
    "    v=length* width*height\n",
    "    return v\n",
    "print(getVolumeOfCubiod(6.3, 2, 5))"
   ]
  },
  {
   "cell_type": "code",
   "execution_count": null,
   "metadata": {},
   "outputs": [],
   "source": [
    "\"\"\"\n",
    "Nathan loves cycling.\n",
    "\n",
    "Because Nathan knows it is important to stay hydrated, he drinks 0.5 litres of water per hour of cycling.\n",
    "\n",
    "You get given the time in hours and you need to return the number of litres Nathan will drink, rounded to the smallest value.\n",
    "\n",
    "For example:\n",
    "\n",
    "time = 3 ----> litres = 1\n",
    "\n",
    "time = 6.7---> litres = 3\n",
    "\n",
    "time = 11.8--> litres = 5\n",
    "\n",
    "test.assert_equals(litres(1.4), 0, 'should return 0 litres');\n",
    "\"\"\"\n",
    "def litres(time):\n",
    "    dw=time*0.5\n",
    "    result=int(dw)\n",
    "    return result\n",
    "litres(1.4)"
   ]
  },
  {
   "cell_type": "code",
   "execution_count": null,
   "metadata": {},
   "outputs": [],
   "source": [
    "\"\"\"\n",
    "The first century spans from the year 1 up to and including the year 100, \n",
    "The second - from the year 101 up to and including the year 200, etc.\n",
    "centuryFromYear(1705)  returns (18)\n",
    "Task :\n",
    "Given a year, return the century it is in.\n",
    "\"\"\"\n",
    "import math\n",
    "def century(year):\n",
    "    century=year/100\n",
    "    intcent=int(math.ceil(century))\n",
    "    # Finish this :)\n",
    "    return intcent\n",
    "century(1705)"
   ]
  },
  {
   "cell_type": "code",
   "execution_count": null,
   "metadata": {},
   "outputs": [],
   "source": [
    "\"\"\"\n",
    "You are given two angles (in degrees) of a triangle.\n",
    "Write a function to return the 3rd.\n",
    "Note: only positive integers will be tested.\n",
    "\"\"\"\n",
    "def other_angle(a, b):\n",
    "    c=180-(a+b)\n",
    "    return c\n",
    "other_angle(30, 60)"
   ]
  },
  {
   "cell_type": "code",
   "execution_count": 1,
   "metadata": {},
   "outputs": [
    {
     "data": {
      "text/plain": [
       "'############5616'"
      ]
     },
     "execution_count": 1,
     "metadata": {},
     "output_type": "execute_result"
    }
   ],
   "source": [
    "\"\"\"\n",
    "Usually when you buy something, you're asked whether your credit card number, \n",
    "phone number or answer to your most secret question is still correct. \n",
    "However, since someone could look over your shoulder, you don't want that shown on your screen. Instead, we mask it.\n",
    "Your task is to write a function maskify, which changes all but the last four characters into '#'.\n",
    "Examples\n",
    "maskify(\"4556364607935616\") == \"############5616\"\n",
    "\"\"\"\n",
    "# return masked string\n",
    "def maskify(cc):\n",
    "    newcc=list(cc)\n",
    "    for i in range(len(cc)-4):\n",
    "        newcc[i]=\"#\"\n",
    "        newccJ=\"\".join(newcc)\n",
    "    return newccJ\n",
    "    pass\n",
    "maskify(\"4556364607935616\")\n"
   ]
  },
  {
   "cell_type": "code",
   "execution_count": 5,
   "metadata": {},
   "outputs": [
    {
     "data": {
      "text/plain": [
       "'############5616'"
      ]
     },
     "execution_count": 5,
     "metadata": {},
     "output_type": "execute_result"
    }
   ],
   "source": [
    "def maskify(cc):\n",
    "  \n",
    "  newcc = list(cc)\n",
    "  #loop through the list except the last 4 index's this will also prevent\n",
    "  #the loop from running for anything less than 5 index's long\n",
    "  for i in range(len(newcc) - 4):\n",
    "    newcc[i] = '#'\n",
    "  # join and return the list\n",
    "  return ''.join(newcc)\n",
    "  pass\n",
    "maskify(\"4556364607935616\")"
   ]
  },
  {
   "cell_type": "code",
   "execution_count": 4,
   "metadata": {},
   "outputs": [
    {
     "name": "stdout",
     "output_type": "stream",
     "text": [
      "['4', '5', '5', '6', '3', '6', '4', '6', '0', '7', '9', '3', '5', '6', '1', '6']\n"
     ]
    }
   ],
   "source": [
    "cc=\"4556364607935616\"\n",
    "newcc = list(cc)\n",
    "print (newcc)"
   ]
  },
  {
   "cell_type": "code",
   "execution_count": 11,
   "metadata": {},
   "outputs": [
    {
     "data": {
      "text/plain": [
       "['A', 'B', 'C', 'D']"
      ]
     },
     "execution_count": 11,
     "metadata": {},
     "output_type": "execute_result"
    }
   ],
   "source": [
    "\"\"\"\n",
    "Implement the function unique_in_order which takes as argument a sequence and \n",
    "returns a list of items without any elements with the same value next to each \n",
    "other and preserving the original order of elements.\n",
    "For example:\n",
    "unique_in_order('AAAABBBCCDAABBB') == ['A', 'B', 'C', 'D', 'A', 'B']\n",
    "\"\"\"\n",
    "def unique_in_order(iterable):\n",
    "    newIte=list()\n",
    "    for i in iterable:\n",
    "        if i not in newIte:\n",
    "            newIte.append(i)\n",
    "    return newIte\n",
    "    pass\n",
    "unique_in_order('AAAABBBCCDAABBB')"
   ]
  },
  {
   "cell_type": "code",
   "execution_count": null,
   "metadata": {},
   "outputs": [],
   "source": []
  }
 ],
 "metadata": {
  "kernelspec": {
   "display_name": "Python 3",
   "language": "python",
   "name": "python3"
  },
  "language_info": {
   "codemirror_mode": {
    "name": "ipython",
    "version": 3
   },
   "file_extension": ".py",
   "mimetype": "text/x-python",
   "name": "python",
   "nbconvert_exporter": "python",
   "pygments_lexer": "ipython3",
   "version": "3.7.6"
  }
 },
 "nbformat": 4,
 "nbformat_minor": 4
}
