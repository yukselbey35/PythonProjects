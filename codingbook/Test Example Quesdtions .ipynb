{
 "cells": [
  {
   "cell_type": "code",
   "execution_count": 1,
   "metadata": {},
   "outputs": [
    {
     "name": "stdout",
     "output_type": "stream",
     "text": [
      "19\n"
     ]
    }
   ],
   "source": [
    "def solveMeFirst(a, b):\n",
    "    a=int(a)\n",
    "    b=int(b)\n",
    "    result=a+b\n",
    "    return result\n",
    "print(solveMeFirst(5, 14))"
   ]
  },
  {
   "cell_type": "code",
   "execution_count": 8,
   "metadata": {},
   "outputs": [
    {
     "data": {
      "text/plain": [
       "3"
      ]
     },
     "execution_count": 8,
     "metadata": {},
     "output_type": "execute_result"
    }
   ],
   "source": [
    "\"\"\"\n",
    "Complete the divisibleSumPairs function in the editor below. It should return the integer count of pairs meeting the criteria.\n",
    "\n",
    "divisibleSumPairs has the following parameter(s):\n",
    "\n",
    "n: the integer length of array \n",
    "ar: an array of integers\n",
    "k: the integer to divide the pair sum by\n",
    "\"\"\"\n",
    "def divisibleSumPairs(n, k, ar):\n",
    "    count=0\n",
    "    for i in range(n-1):\n",
    "        for j in range(i+1, n):\n",
    "            if (ar[i]+ar[j])%k==0:\n",
    "                count+=1\n",
    "    return count\n",
    "\n",
    "divisibleSumPairs(6, 5, [1, 2 , 3 , 4 , 5, 6])"
   ]
  },
  {
   "cell_type": "code",
   "execution_count": 5,
   "metadata": {},
   "outputs": [
    {
     "name": "stdout",
     "output_type": "stream",
     "text": [
      "4\n"
     ]
    }
   ],
   "source": [
    "ar=[1, 2 , 3 , 4 , 5]\n",
    "k=5\n",
    "n=5\n",
    "def divisibleSumPairs(n, k, ar):\n",
    "    count = 0\n",
    "    for i in range(len(ar)-1):\n",
    "        if (ar[i] + ar[i+1]) % k == 0:\n",
    "            count += 1\n",
    "    return count * (n-1)\n",
    "print(divisibleSumPairs(n, k, ar))"
   ]
  },
  {
   "cell_type": "code",
   "execution_count": 9,
   "metadata": {},
   "outputs": [],
   "source": [
    "\"\"\"\n",
    "bill: an array of integers representing the cost of \n",
    "each item ordered\n",
    "k: an integer representing the zero-based index of the item Anna doesn't eat\n",
    "b: the amount of money that Anna contributed to the bill\n",
    "k=what annna didn't eat\n",
    "b brian charged anna\n",
    "bill the \n",
    "\"\"\"\n",
    "def bonAppetit(bill, k , b):\n",
    "    total=0\n",
    "    for i in range(len(bill)):\n",
    "        if i ==k:\n",
    "            continue\n",
    "        else:\n",
    "            total+=bill[i]\n",
    "    anna_should_pay=total/2\n",
    "    if b == anna_should_pay:\n",
    "        print(\"Bon Appetit\")\n",
    "    else:\n",
    "        print(int(b-anna_should_pay))\n",
    "    \n",
    "    "
   ]
  },
  {
   "cell_type": "code",
   "execution_count": 11,
   "metadata": {},
   "outputs": [
    {
     "data": {
      "text/plain": [
       "[2, 1]"
      ]
     },
     "execution_count": 11,
     "metadata": {},
     "output_type": "execute_result"
    }
   ],
   "source": [
    "\"\"\"\n",
    "Complete the function compareTriplets in the editor below. It must return an array of two integers, the first being Alice's score and the second being Bob's.\n",
    "\n",
    "compareTriplets has the following parameter(s):\n",
    "\n",
    "a: an array of integers representing Alice's challenge rating\n",
    "b: an array of integers representing Bob's challenge rating\n",
    "\"\"\"\n",
    "def compareTriplets(a, b):\n",
    "    aScore=0\n",
    "    bScore=0\n",
    "    for i in range(len(a)):\n",
    "        if a[i] >b[i]:\n",
    "            aScore+=1\n",
    "        elif a[i] < b[i]:\n",
    "            bScore+=1\n",
    "        elif a[i] == b[i]:\n",
    "            aScore+=0\n",
    "            bScore+=0\n",
    "    return [aScore, bScore]\n",
    "aaa=[3,5,4]\n",
    "bbb=[2,1,30]\n",
    "d=[17, 28, 30]\n",
    "e=[99, 28, 8]\n",
    "compareTriplets(aaa, bbb)\n",
    "\n"
   ]
  },
  {
   "cell_type": "code",
   "execution_count": 12,
   "metadata": {},
   "outputs": [
    {
     "data": {
      "text/plain": [
       "[1, 1]"
      ]
     },
     "execution_count": 12,
     "metadata": {},
     "output_type": "execute_result"
    }
   ],
   "source": [
    "compareTriplets(e, d)"
   ]
  },
  {
   "cell_type": "code",
   "execution_count": 13,
   "metadata": {},
   "outputs": [
    {
     "data": {
      "text/plain": [
       "'Cat B'"
      ]
     },
     "execution_count": 13,
     "metadata": {},
     "output_type": "execute_result"
    }
   ],
   "source": [
    "\"\"\"\n",
    "Two cats and a mouse are at various positions on a line. \n",
    "You will be given their starting positions. \n",
    "Your task is to determine which cat will reach the mouse first, \n",
    "assuming the mouse doesn't move and the cats travel at equal speed. \n",
    "If the cats arrive at the same time, the mouse will be allowed to move and it will escape while they fight.\n",
    "\"\"\"\n",
    "\n",
    "def catAndMouse(x, y, z):\n",
    "    if abs(x-z)<abs(y-z):\n",
    "        return \"Cat A\" \n",
    "    elif abs(x-z)>abs(y-z):\n",
    "        return \"Cat B\"\n",
    "    else: \n",
    "        return \"Mouse C\"\n",
    "catAndMouse(1, 2, 3)\n"
   ]
  },
  {
   "cell_type": "code",
   "execution_count": 14,
   "metadata": {},
   "outputs": [
    {
     "data": {
      "text/plain": [
       "'Mouse C'"
      ]
     },
     "execution_count": 14,
     "metadata": {},
     "output_type": "execute_result"
    }
   ],
   "source": [
    "catAndMouse(1, 3, 2)"
   ]
  },
  {
   "cell_type": "code",
   "execution_count": 8,
   "metadata": {},
   "outputs": [
    {
     "name": "stdout",
     "output_type": "stream",
     "text": [
      "Enter the number of rows5\n",
      "    * \n",
      "   * * \n",
      "  * * * \n",
      " * * * * \n",
      "* * * * * \n"
     ]
    }
   ],
   "source": [
    "num=int(input(\"Enter the number of rows\"))\n",
    "for i in range(0, num):\n",
    "    for j in range(0, num-i-1): #make space\n",
    "        print(end=\" \")\n",
    "    for j in range(0, i+1):\n",
    "        print(\"*\", end=\" \")\n",
    "    print()"
   ]
  },
  {
   "cell_type": "code",
   "execution_count": 11,
   "metadata": {},
   "outputs": [
    {
     "name": "stdout",
     "output_type": "stream",
     "text": [
      "Enter the number of rows4\n",
      "* * \n",
      "* * \n",
      "* * \n",
      "* * \n"
     ]
    }
   ],
   "source": [
    "num=int(input(\"Enter the number of rows\"))\n",
    "for i in range(1, num+1):\n",
    "    for j in (1, i+1):\n",
    "        print(\"*\", end=\" \")\n",
    "    print()"
   ]
  },
  {
   "cell_type": "code",
   "execution_count": 31,
   "metadata": {},
   "outputs": [
    {
     "data": {
      "text/plain": [
       "[2, 3, 5, 7, 11, 13]"
      ]
     },
     "execution_count": 31,
     "metadata": {},
     "output_type": "execute_result"
    }
   ],
   "source": [
    "def primeNum(n):\n",
    "    listPrime=list()\n",
    "    for n in range(2, n+1):\n",
    "        if n >1:\n",
    "            for i in range(2, n):\n",
    "                if (n%i)==0:\n",
    "                    break\n",
    "            else:\n",
    "                listPrime.append(n)\n",
    "    return listPrime\n",
    "primeNum(13)                "
   ]
  },
  {
   "cell_type": "code",
   "execution_count": 32,
   "metadata": {},
   "outputs": [
    {
     "data": {
      "text/plain": [
       "[0, 2, 4, 6, 8, 10, 12, 14]"
      ]
     },
     "execution_count": 32,
     "metadata": {},
     "output_type": "execute_result"
    }
   ],
   "source": [
    "def evenNum(n):\n",
    "    listEven=list()\n",
    "    for i in range(n+1):\n",
    "        if i%2==0:\n",
    "            listEven.append(i)\n",
    "    return listEven\n",
    "evenNum(15)\n",
    "            \n",
    "    "
   ]
  },
  {
   "cell_type": "code",
   "execution_count": 55,
   "metadata": {},
   "outputs": [
    {
     "data": {
      "text/plain": [
       "[0, 5, 10, 15]"
      ]
     },
     "execution_count": 55,
     "metadata": {},
     "output_type": "execute_result"
    }
   ],
   "source": [
    "\"\"\"\n",
    "Write a simple function/method to print numbers that are divisible by five until a given number n (n should be the method parameter, n is inclusive in your answer). (3 points)\n",
    "\"\"\"\n",
    "def divbyFive(n):\n",
    "    listFive=list()\n",
    "    for i in range(n+1):\n",
    "        if i%5==0:\n",
    "            listFive.append(i)\n",
    "    return listFive\n",
    "divbyFive(15)"
   ]
  },
  {
   "cell_type": "code",
   "execution_count": 35,
   "metadata": {},
   "outputs": [
    {
     "data": {
      "text/plain": [
       "[1, 3, 5, 7, 9, 11, 13, 15]"
      ]
     },
     "execution_count": 35,
     "metadata": {},
     "output_type": "execute_result"
    }
   ],
   "source": [
    "def oddNum(n):\n",
    "    listOdd=list()\n",
    "    for i in range(n+1):\n",
    "        if i%2==1:\n",
    "            listOdd.append(i)\n",
    "    return listOdd\n",
    "oddNum(15)\n",
    "            \n",
    "    "
   ]
  },
  {
   "cell_type": "code",
   "execution_count": 40,
   "metadata": {},
   "outputs": [
    {
     "name": "stdout",
     "output_type": "stream",
     "text": [
      "*\n",
      "**\n",
      "***\n",
      "****\n",
      "***\n",
      "**\n",
      "*\n"
     ]
    }
   ],
   "source": [
    "def rowCount(n):\n",
    "    for i in range(1, n+1):\n",
    "        for j in range(1, i+1):\n",
    "            print(\"*\", end=\"\")\n",
    "        print()\n",
    "    for i in range(num-1, 0, -1):\n",
    "        for j in range(0, i):\n",
    "            print(\"*\", end=\"\")\n",
    "        print()\n",
    "        \n",
    "rowCount(4)"
   ]
  },
  {
   "cell_type": "code",
   "execution_count": 62,
   "metadata": {},
   "outputs": [
    {
     "name": "stdout",
     "output_type": "stream",
     "text": [
      "1104.6221254112043\n"
     ]
    }
   ],
   "source": [
    "def bacPop(n):\n",
    "    for i in range(1, n+1):\n",
    "        if i<11:\n",
    "            begBacNum=100*i\n",
    "        else:\n",
    "            begBacNum=begBacNum+(begBacNum/100)\n",
    "        \n",
    "    return begBacNum\n",
    "\n",
    "print(bacPop(20))"
   ]
  },
  {
   "cell_type": "code",
   "execution_count": 51,
   "metadata": {},
   "outputs": [
    {
     "data": {
      "text/plain": [
       "True"
      ]
     },
     "execution_count": 51,
     "metadata": {},
     "output_type": "execute_result"
    }
   ],
   "source": [
    "def healthyMeal(b, t, p, c):\n",
    "    beancal=(b*200/1000)\n",
    "    tomatocal=(t*50/1000)\n",
    "    potatocal=(p*100/1000)\n",
    "    cheesecal=(c*20.67/1000)\n",
    "    totalCal=beancal+tomatocal+potatocal+cheesecal\n",
    "    if totalCal <=500:\n",
    "        return True\n",
    "    else:\n",
    "        return False\n",
    "healthyMeal(300, 200, 250, 100)\n",
    "        "
   ]
  },
  {
   "cell_type": "code",
   "execution_count": 61,
   "metadata": {},
   "outputs": [
    {
     "data": {
      "text/plain": [
       "True"
      ]
     },
     "execution_count": 61,
     "metadata": {},
     "output_type": "execute_result"
    }
   ],
   "source": [
    "def enoughMoney(workDays):\n",
    "    campaingPrice=500\n",
    "    moneyHave=300\n",
    "    dayPay=30\n",
    "    day7=workDays*dayPay\n",
    "    totalMoney=moneyHave+day7\n",
    "    if totalMoney >= campaingPrice:\n",
    "        return True\n",
    "    else:\n",
    "        return False\n",
    "enoughMoney(7)\n",
    "    "
   ]
  },
  {
   "cell_type": "code",
   "execution_count": 64,
   "metadata": {},
   "outputs": [
    {
     "name": "stdout",
     "output_type": "stream",
     "text": [
      "True\n"
     ]
    }
   ],
   "source": [
    "def intoClouds(gas):\n",
    "    needgas=(10000*5)/10\n",
    "    if gas >= needgas:\n",
    "        return True\n",
    "    else:\n",
    "        return False\n",
    "print(intoClouds(5000))\n",
    "        "
   ]
  },
  {
   "cell_type": "code",
   "execution_count": 74,
   "metadata": {},
   "outputs": [
    {
     "name": "stdout",
     "output_type": "stream",
     "text": [
      "    * \n",
      "   * * \n",
      "  * * * \n",
      " * * * * \n",
      "* * * * * \n"
     ]
    }
   ],
   "source": [
    "def teslaTriangle(num):\n",
    "    row=0\n",
    "    while row<num:\n",
    "        space=num-row-1\n",
    "        while space>0:\n",
    "            print(end=\" \")\n",
    "            space=space-1\n",
    "        stars=row+1\n",
    "        while stars>0:\n",
    "            print (\"*\", end=\" \")\n",
    "            stars=stars-1\n",
    "        row = row+1\n",
    "        print()\n",
    "teslaTriangle(5)    "
   ]
  },
  {
   "cell_type": "code",
   "execution_count": null,
   "metadata": {},
   "outputs": [],
   "source": []
  }
 ],
 "metadata": {
  "kernelspec": {
   "display_name": "Python 3",
   "language": "python",
   "name": "python3"
  },
  "language_info": {
   "codemirror_mode": {
    "name": "ipython",
    "version": 3
   },
   "file_extension": ".py",
   "mimetype": "text/x-python",
   "name": "python",
   "nbconvert_exporter": "python",
   "pygments_lexer": "ipython3",
   "version": "3.7.6"
  }
 },
 "nbformat": 4,
 "nbformat_minor": 4
}
