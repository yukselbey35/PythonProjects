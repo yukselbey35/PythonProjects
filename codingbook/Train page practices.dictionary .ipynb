{
 "cells": [
  {
   "cell_type": "code",
   "execution_count": 1,
   "metadata": {},
   "outputs": [],
   "source": [
    "\"\"\"\n",
    "Your start-up's BA has told marketing that your website has a large audience in \n",
    "Scandinavia and surrounding countries. Marketing thinks it would be great to welcome \n",
    "visitors to the site in their own language. Luckily you already use an API \n",
    "that detects the user's location, so this is an easy win.\n",
    "\n",
    "The Task\n",
    "Think of a way to store the languages as a database (eg an object). \n",
    "The languages are listed below so you can copy and paste!\n",
    "Write a 'welcome' function that takes a parameter 'language' \n",
    "(always a string), and returns a greeting - if you have it in your database. \n",
    "It should default to English if the language is not in the database, or in the event of an invalid input.\n",
    "\"\"\"\n",
    "def greet(language):\n",
    "    #your code here\n",
    "    dict = {'english': 'Welcome',\n",
    "            'czech': 'Vitejte',\n",
    "            'danish': 'Velkomst',\n",
    "            'dutch': 'Welkom',\n",
    "            'estonian': 'Tere tulemast',\n",
    "            'finnish': 'Tervetuloa',\n",
    "            'flemish': 'Welgekomen',\n",
    "            'french': 'Bienvenue',\n",
    "            'german': 'Willkommen',\n",
    "            'irish': 'Failte',\n",
    "            'italian': 'Benvenuto',\n",
    "            'latvian': 'Gaidits',\n",
    "            'lithuanian': 'Laukiamas',\n",
    "            'polish': 'Witamy',\n",
    "            'spanish': 'Bienvenido',\n",
    "            'swedish': 'Valkommen',\n",
    "            'welsh': 'Croeso'}\n",
    "\n",
    "    if language in dict.keys():\n",
    "        return (dict[language])\n",
    "    else:\n",
    "        return ('Welcome')"
   ]
  },
  {
   "cell_type": "code",
   "execution_count": null,
   "metadata": {},
   "outputs": [],
   "source": [
    "\"\"\"\n",
    "Write a function to convert a name into initials. This kata strictly takes two words with one space in between them.\n",
    "\n",
    "The output should be two capital letters with a dot separating them.\n",
    "\n",
    "It should look like this:\n",
    "\n",
    "Sam Harris => S.H\n",
    "\n",
    "Patrick Feeney => P.F\n",
    "\"\"\"\n",
    "def abbrevName(name):\n",
    "    cap = name.upper()\n",
    "    capName = cap.split(\" \", 1)\n",
    "    return ((capName[0][0]) + \".\" + (capName[1][0]))\n"
   ]
  }
 ],
 "metadata": {
  "kernelspec": {
   "display_name": "Python 3",
   "language": "python",
   "name": "python3"
  },
  "language_info": {
   "codemirror_mode": {
    "name": "ipython",
    "version": 3
   },
   "file_extension": ".py",
   "mimetype": "text/x-python",
   "name": "python",
   "nbconvert_exporter": "python",
   "pygments_lexer": "ipython3",
   "version": "3.7.6"
  }
 },
 "nbformat": 4,
 "nbformat_minor": 4
}
