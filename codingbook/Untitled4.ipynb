{
 "cells": [
  {
   "cell_type": "code",
   "execution_count": 1,
   "metadata": {},
   "outputs": [
    {
     "name": "stdout",
     "output_type": "stream",
     "text": [
      "19\n"
     ]
    }
   ],
   "source": [
    "def solveMeFirst(a, b):\n",
    "    a=int(a)\n",
    "    b=int(b)\n",
    "    result= a+b\n",
    "    return result\n",
    "print(solveMeFirst(5, 14))"
   ]
  },
  {
   "cell_type": "code",
   "execution_count": 2,
   "metadata": {},
   "outputs": [
    {
     "data": {
      "text/plain": [
       "3"
      ]
     },
     "execution_count": 2,
     "metadata": {},
     "output_type": "execute_result"
    }
   ],
   "source": [
    "\"\"\"\n",
    "Complete the divisibleSumPairs function in the editor below. \n",
    "It should return the integer count of pairs meeting the criteria.\n",
    "divisibleSumPairs has the following parameter(s):\n",
    "n: the integer length of array \n",
    "ar: an array of integers\n",
    "k: the integer to divide the pair sum by\n",
    "\"\"\"\n",
    "def divisibleSumPairs(n, k, ar):\n",
    "    count=0\n",
    "    for i in range(n-1):\n",
    "        for j in range(i+1, n):\n",
    "            if (ar[i]+ar[j])%k==0:\n",
    "                count+=1\n",
    "    return count\n",
    "divisibleSumPairs(6, 5, [1, 2 , 3 , 4 , 5, 6])"
   ]
  },
  {
   "cell_type": "code",
   "execution_count": null,
   "metadata": {},
   "outputs": [],
   "source": []
  }
 ],
 "metadata": {
  "kernelspec": {
   "display_name": "Python 3",
   "language": "python",
   "name": "python3"
  },
  "language_info": {
   "codemirror_mode": {
    "name": "ipython",
    "version": 3
   },
   "file_extension": ".py",
   "mimetype": "text/x-python",
   "name": "python",
   "nbconvert_exporter": "python",
   "pygments_lexer": "ipython3",
   "version": "3.7.6"
  }
 },
 "nbformat": 4,
 "nbformat_minor": 4
}
